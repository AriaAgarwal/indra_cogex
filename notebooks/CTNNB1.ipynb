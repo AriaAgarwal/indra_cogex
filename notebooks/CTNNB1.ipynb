{
 "cells": [
  {
   "cell_type": "markdown",
   "id": "7d50d7f0-91a7-4920-9b1b-65f0d35791f3",
   "metadata": {},
   "source": [
    "# **CTNNB1 Exploration**"
   ]
  },
  {
   "cell_type": "markdown",
   "id": "e803a701-eee4-4722-bd1f-614360ba5be7",
   "metadata": {},
   "source": [
    "**Exploring how specific proteins out of a statistically compiled list of 25 proteins relate to CTNNB1 through INDRA statements,\n",
    "exploring Wnt/B-catenin pathway membership, determining if any of the proteins belong to the same protein family/complex as CTNNB1, and using INDRA discrete gene list analysis results**"
   ]
  },
  {
   "cell_type": "markdown",
   "id": "c81a02ec-5975-4ac3-850f-5f86f373619f",
   "metadata": {},
   "source": [
    "## Finding Unique Proteins\n",
    "Which proteins are mentioned in list of top 25 proteins that are not listed in the paper?"
   ]
  },
  {
   "cell_type": "code",
   "execution_count": 1,
   "id": "19df5da6-0e4c-4cc4-92e4-03ef014b795b",
   "metadata": {},
   "outputs": [
    {
     "name": "stderr",
     "output_type": "stream",
     "text": [
      "INFO: [2024-07-10 02:12:13] numexpr.utils - NumExpr defaulting to 8 threads.\n",
      "INFO: [2024-07-10 02:12:14] indra_cogex.client.neo4j_client - Using configured URL for INDRA neo4j connection\n",
      "INFO: [2024-07-10 02:12:14] indra_cogex.client.neo4j_client - Using configured credentials for INDRA neo4j connection\n"
     ]
    }
   ],
   "source": [
    "# imports\n",
    "from indra_cogex.client import Neo4jClient\n",
    "import json\n",
    "client = Neo4jClient()\n",
    "from indra.assemblers.html import HtmlAssembler\n",
    "import json\n",
    "from indra.statements import *\n",
    "import pandas as pd\n",
    "from indra_cogex.client import *"
   ]
  },
  {
   "cell_type": "code",
   "execution_count": 88,
   "id": "91b4a197-4cd5-4897-9504-41de22b47e88",
   "metadata": {},
   "outputs": [],
   "source": [
    "def get_unique_proteins():\n",
    "    \"\"\"\n",
    "    Parameters\n",
    "    ----------\n",
    "    none\n",
    "\n",
    "    Returns\n",
    "    -------\n",
    "    paper_proteins : list that contains names of proteins from paper\n",
    "    top_25: list that contains protien names of top 25 protiens given\n",
    "    bcat_pathway: list that contains given protein names involved in the pathway from google search\n",
    "    unique: list that contains proteins that are in the top_25 list but not paper_protiens\n",
    "        \n",
    "    \"\"\"\n",
    "    # 3 lists of proteins were given, the proteins listed in the paper, statistically top 25, and the proteins involved in the patwhay\n",
    "    paper_proteins = [\"CTNNB1\", \"LEF1\", \"CTNNA2\", \"EPHA7\", \"LRP4\", \"NOTUM\", \"DKK4\", \"JAG1\", \"PSEN2\", \"RBPJ\", \"HELZ2\", \"KIAA0513\", \"LSP1\", \n",
    "    \"VWA2\", \"CXCL14\", \"GNE\", \"GTF2F1\", \"TLK1\", \"ZNF638\", \"HDAC2\", \"HDAC5\",\"NCSTN\", \"NUMB\", \"AXIN1\", \"FZD1\", \"GNAI1\", \"TP53\"]\n",
    "    \n",
    "    top_25 = [\"VWA2\", \"LRP4\", \"CTNNB1\", \"GLCE\", \"ACSL5\", \"NOTUM\", \"APCDD1\", \"DKK4\", \"EPHA7\", \"CTNNA2\", \"ADAMTSL2\", \"CALML3\", \n",
    "              \"CEMIP2\", \"AMOT\", \"CXCL14\", \"PLA2G4A\", \"RCN2\", \"TTC9\", \"FABP4\", \"GPCPD1\", \"VSNL1\", \"CRYBB1\", \"LEF1\", \"PDZD8\", \"FNDC3A\"]\n",
    "    \n",
    "    bcat_pathway = [\"ADAM17\", \"AXIN1\", \"AXIN2\", \"CCND2\", \"CSNK1E\", \"CTNNB1\", \"CUL1\", \"DKK1\", \"DKK4\", \"DLL1\", \"DVL2\", \"FRAT1\", \"FZD1\",\n",
    "                    \"FZD8\", \"GNAI1\", \"HDAC11\", \"HDAC2\", \"HDAC5\", \"HEY1\", \"HEY2\", \"JAG1\", \"JAG2\", \"KAT2A\", \"LEF1\", \"MAML1\", \"MYC\", \"NCOR2\",\n",
    "                    \"NCSTN\", \"NKD1\", \"NOTCH1\", \"NOTCH4\", \"NUMB\", \"PPARD\", \"PSEN2\", \"PTCH1\", \"RBPJ\", \"SKP2\", \"TCF7\", \"TP53\", \"WNT1\", \"WNT5B\", \"WNT6\"]\n",
    "\n",
    "    # found unique defined as proteins that are in the top 25 list but not in the paper\n",
    "    unique = [x for x in top_25 if x not in paper_proteins]\n",
    "\n",
    "    return paper_proteins, top_25, bcat_pathway, unique\n",
    "    \n",
    "paper_proteins, top_25, bcat_pathway, unique = get_unique_proteins()"
   ]
  },
  {
   "cell_type": "markdown",
   "id": "19e1615f-23ed-45f3-b50a-ce9b6536ea1d",
   "metadata": {},
   "source": [
    "## Using CTNNB1 to Get INDRA Statements\n",
    "Exploring the INDRA relationships between CTNNB1 and the list of proteins as a result, then filtering the INDRA statements for the filtered genes to see if CTNNB1 directly interacts with the protein "
   ]
  },
  {
   "cell_type": "code",
   "execution_count": 89,
   "id": "d76db2bf-bd9d-4867-a65b-66302a509fe8",
   "metadata": {},
   "outputs": [
    {
     "data": {
      "text/html": [
       "<div>\n",
       "<style scoped>\n",
       "    .dataframe tbody tr th:only-of-type {\n",
       "        vertical-align: middle;\n",
       "    }\n",
       "\n",
       "    .dataframe tbody tr th {\n",
       "        vertical-align: top;\n",
       "    }\n",
       "\n",
       "    .dataframe thead th {\n",
       "        text-align: right;\n",
       "    }\n",
       "</style>\n",
       "<table border=\"1\" class=\"dataframe\">\n",
       "  <thead>\n",
       "    <tr style=\"text-align: right;\">\n",
       "      <th></th>\n",
       "      <th>name</th>\n",
       "      <th>stmt_json</th>\n",
       "      <th>type</th>\n",
       "      <th>id</th>\n",
       "      <th>type</th>\n",
       "    </tr>\n",
       "  </thead>\n",
       "  <tbody>\n",
       "    <tr>\n",
       "      <th>0</th>\n",
       "      <td>GLCE</td>\n",
       "      <td>{\"type\": \"IncreaseAmount\", \"subj\": {\"name\": \"C...</td>\n",
       "      <td>human_gene_protein</td>\n",
       "      <td>hgnc:17855</td>\n",
       "      <td>IncreaseAmount</td>\n",
       "    </tr>\n",
       "    <tr>\n",
       "      <th>1</th>\n",
       "      <td>GLCE</td>\n",
       "      <td>{\"type\": \"IncreaseAmount\", \"subj\": {\"name\": \"C...</td>\n",
       "      <td>human_gene_protein</td>\n",
       "      <td>hgnc:17855</td>\n",
       "      <td>IncreaseAmount</td>\n",
       "    </tr>\n",
       "    <tr>\n",
       "      <th>2</th>\n",
       "      <td>APCDD1</td>\n",
       "      <td>{\"type\": \"Complex\", \"members\": [{\"name\": \"APCD...</td>\n",
       "      <td>human_gene_protein</td>\n",
       "      <td>hgnc:15718</td>\n",
       "      <td>Complex</td>\n",
       "    </tr>\n",
       "    <tr>\n",
       "      <th>3</th>\n",
       "      <td>CALML3</td>\n",
       "      <td>{\"type\": \"Activation\", \"subj\": {\"name\": \"CTNNB...</td>\n",
       "      <td>human_gene_protein</td>\n",
       "      <td>hgnc:1452</td>\n",
       "      <td>Activation</td>\n",
       "    </tr>\n",
       "    <tr>\n",
       "      <th>4</th>\n",
       "      <td>AMOT</td>\n",
       "      <td>{\"type\": \"Complex\", \"members\": [{\"name\": \"AMOT...</td>\n",
       "      <td>human_gene_protein</td>\n",
       "      <td>hgnc:17810</td>\n",
       "      <td>Complex</td>\n",
       "    </tr>\n",
       "    <tr>\n",
       "      <th>5</th>\n",
       "      <td>AMOT</td>\n",
       "      <td>{\"type\": \"Complex\", \"members\": [{\"name\": \"BCAR...</td>\n",
       "      <td>human_gene_protein</td>\n",
       "      <td>hgnc:17810</td>\n",
       "      <td>Complex</td>\n",
       "    </tr>\n",
       "    <tr>\n",
       "      <th>6</th>\n",
       "      <td>FABP4</td>\n",
       "      <td>{\"type\": \"Complex\", \"members\": [{\"name\": \"CTNN...</td>\n",
       "      <td>human_gene_protein</td>\n",
       "      <td>hgnc:3559</td>\n",
       "      <td>Complex</td>\n",
       "    </tr>\n",
       "    <tr>\n",
       "      <th>7</th>\n",
       "      <td>FABP4</td>\n",
       "      <td>{\"type\": \"Activation\", \"subj\": {\"name\": \"CTNNB...</td>\n",
       "      <td>human_gene_protein</td>\n",
       "      <td>hgnc:3559</td>\n",
       "      <td>Activation</td>\n",
       "    </tr>\n",
       "    <tr>\n",
       "      <th>8</th>\n",
       "      <td>FABP4</td>\n",
       "      <td>{\"type\": \"Inhibition\", \"subj\": {\"name\": \"CTNNB...</td>\n",
       "      <td>human_gene_protein</td>\n",
       "      <td>hgnc:3559</td>\n",
       "      <td>Inhibition</td>\n",
       "    </tr>\n",
       "    <tr>\n",
       "      <th>9</th>\n",
       "      <td>FABP4</td>\n",
       "      <td>{\"type\": \"DecreaseAmount\", \"subj\": {\"name\": \"C...</td>\n",
       "      <td>human_gene_protein</td>\n",
       "      <td>hgnc:3559</td>\n",
       "      <td>DecreaseAmount</td>\n",
       "    </tr>\n",
       "  </tbody>\n",
       "</table>\n",
       "</div>"
      ],
      "text/plain": [
       "     name                                          stmt_json  \\\n",
       "0    GLCE  {\"type\": \"IncreaseAmount\", \"subj\": {\"name\": \"C...   \n",
       "1    GLCE  {\"type\": \"IncreaseAmount\", \"subj\": {\"name\": \"C...   \n",
       "2  APCDD1  {\"type\": \"Complex\", \"members\": [{\"name\": \"APCD...   \n",
       "3  CALML3  {\"type\": \"Activation\", \"subj\": {\"name\": \"CTNNB...   \n",
       "4    AMOT  {\"type\": \"Complex\", \"members\": [{\"name\": \"AMOT...   \n",
       "5    AMOT  {\"type\": \"Complex\", \"members\": [{\"name\": \"BCAR...   \n",
       "6   FABP4  {\"type\": \"Complex\", \"members\": [{\"name\": \"CTNN...   \n",
       "7   FABP4  {\"type\": \"Activation\", \"subj\": {\"name\": \"CTNNB...   \n",
       "8   FABP4  {\"type\": \"Inhibition\", \"subj\": {\"name\": \"CTNNB...   \n",
       "9   FABP4  {\"type\": \"DecreaseAmount\", \"subj\": {\"name\": \"C...   \n",
       "\n",
       "                 type          id            type  \n",
       "0  human_gene_protein  hgnc:17855  IncreaseAmount  \n",
       "1  human_gene_protein  hgnc:17855  IncreaseAmount  \n",
       "2  human_gene_protein  hgnc:15718         Complex  \n",
       "3  human_gene_protein   hgnc:1452      Activation  \n",
       "4  human_gene_protein  hgnc:17810         Complex  \n",
       "5  human_gene_protein  hgnc:17810         Complex  \n",
       "6  human_gene_protein   hgnc:3559         Complex  \n",
       "7  human_gene_protein   hgnc:3559      Activation  \n",
       "8  human_gene_protein   hgnc:3559      Inhibition  \n",
       "9  human_gene_protein   hgnc:3559  DecreaseAmount  "
      ]
     },
     "execution_count": 89,
     "metadata": {},
     "output_type": "execute_result"
    }
   ],
   "source": [
    "def find_indra_relationships():\n",
    "    \"\"\"\n",
    "    Parameters\n",
    "    ----------\n",
    "    none\n",
    "\n",
    "    Returns\n",
    "    -------\n",
    "    combined_df: dataframe that contains INDRA relationships for CTNNB1 filtered by \"unique\" genes\n",
    "    protein_df: unfiltered dataframe that contains all INDRA relationships for CTNNB1\n",
    "        \n",
    "    \"\"\"\n",
    "    # cypher to get dataframe with all proteins that have INDRA relationship with CTNNB1\n",
    "    target_protein = \"CTNNB1\"\n",
    "    cypher = f\"MATCH p=(n:BioEntity)-[r:indra_rel]->(m:BioEntity) WHERE n.name = '{target_protein}' RETURN m.name, r.stmt_json, m.type, m.id, r.stmt_type\"\n",
    "    proteins = client.query_tx(cypher)\n",
    "    protein_df = pd.DataFrame(proteins, columns=[\"name\", \"stmt_json\", \"type\", \"id\", \"type\"])\n",
    "\n",
    "    df_list = []\n",
    "    protein_list = protein_df[\"name\"].values\n",
    "    \n",
    "    # filters the dataframe that contains all INDRA relationships for CTNNB1 for genes in the \"unique\" list\n",
    "    for gene in unique:\n",
    "        if gene in protein_list:\n",
    "           df_list.append(protein_df[protein_df[\"name\"] == gene])\n",
    "    # combines dataframes for each gene into single dataframe\n",
    "    combined_df = pd.concat(df_list, ignore_index=True)\n",
    "    return combined_df, protein_df\n",
    "combined_df, protein_df = find_indra_relationships()\n",
    "combined_df"
   ]
  },
  {
   "cell_type": "code",
   "execution_count": 91,
   "id": "2bb75898-9bec-4623-aaf3-63ca4384176e",
   "metadata": {},
   "outputs": [],
   "source": [
    "# method to get INDRA statements for proteins of interest \n",
    "def get_indra_statements():\n",
    "    json_list = combined_df[\"stmt_json\"].values\n",
    "    protein_names = combined_df[\"name\"].values\n",
    "    \n",
    "    # iterates through the gene name and json strings for each gene \n",
    "    for name, strings, index in zip(protein_names, json_list, range(len(protein_names))):\n",
    "        stmt_jsons = []\n",
    "        # iterates through the individual json string within the statements for each gene \n",
    "        # and converts it to an INDRA statement object\n",
    "        stmt_jsons.append(json.loads(strings))\n",
    "        stmts = stmts_from_json(json_in=stmt_jsons)\n",
    "    \n",
    "        # uses HtmlAssembler to get html pages of INDRA statements for each gene \n",
    "        ha = HtmlAssembler(stmts, title='Statements for %s' % name, db_rest_url='https://db.indra.bio')\n",
    "        ha.save_model('%s_statements.html' % (name+str(index)))\n",
    "get_indra_statements()"
   ]
  },
  {
   "cell_type": "markdown",
   "id": "acdf88e7-5964-48cf-b18a-3cbcef539b34",
   "metadata": {},
   "source": [
    "## Finding Shared Pathways Between CTNNB1 and Unique Genes\n",
    "Do any of the unique proteins belong to the Wnt/B-catenin pathway? If not, do any of them have shared pathways with CTNNB1? What are the implications of having shared pathways?"
   ]
  },
  {
   "cell_type": "code",
   "execution_count": 106,
   "id": "61a26d97-3cd0-42e0-bc6f-00c166ab4c14",
   "metadata": {},
   "outputs": [
    {
     "data": {
      "text/html": [
       "<div>\n",
       "<style scoped>\n",
       "    .dataframe tbody tr th:only-of-type {\n",
       "        vertical-align: middle;\n",
       "    }\n",
       "\n",
       "    .dataframe tbody tr th {\n",
       "        vertical-align: top;\n",
       "    }\n",
       "\n",
       "    .dataframe thead th {\n",
       "        text-align: right;\n",
       "    }\n",
       "</style>\n",
       "<table border=\"1\" class=\"dataframe\">\n",
       "  <thead>\n",
       "    <tr style=\"text-align: right;\">\n",
       "      <th></th>\n",
       "      <th>name</th>\n",
       "      <th>gene_id</th>\n",
       "    </tr>\n",
       "  </thead>\n",
       "  <tbody>\n",
       "    <tr>\n",
       "      <th>0</th>\n",
       "      <td>GLCE</td>\n",
       "      <td>hgnc:17855</td>\n",
       "    </tr>\n",
       "    <tr>\n",
       "      <th>1</th>\n",
       "      <td>ACSL5</td>\n",
       "      <td>hgnc:16526</td>\n",
       "    </tr>\n",
       "    <tr>\n",
       "      <th>2</th>\n",
       "      <td>APCDD1</td>\n",
       "      <td>hgnc:15718</td>\n",
       "    </tr>\n",
       "    <tr>\n",
       "      <th>3</th>\n",
       "      <td>ADAMTSL2</td>\n",
       "      <td>hgnc:14631</td>\n",
       "    </tr>\n",
       "    <tr>\n",
       "      <th>4</th>\n",
       "      <td>CALML3</td>\n",
       "      <td>hgnc:1452</td>\n",
       "    </tr>\n",
       "    <tr>\n",
       "      <th>5</th>\n",
       "      <td>CEMIP2</td>\n",
       "      <td>hgnc:11869</td>\n",
       "    </tr>\n",
       "    <tr>\n",
       "      <th>6</th>\n",
       "      <td>AMOT</td>\n",
       "      <td>hgnc:17810</td>\n",
       "    </tr>\n",
       "    <tr>\n",
       "      <th>7</th>\n",
       "      <td>PLA2G4A</td>\n",
       "      <td>hgnc:9034</td>\n",
       "    </tr>\n",
       "    <tr>\n",
       "      <th>8</th>\n",
       "      <td>PLA2G4A</td>\n",
       "      <td>hgnc:9035</td>\n",
       "    </tr>\n",
       "    <tr>\n",
       "      <th>9</th>\n",
       "      <td>RCN2</td>\n",
       "      <td>hgnc:9935</td>\n",
       "    </tr>\n",
       "    <tr>\n",
       "      <th>10</th>\n",
       "      <td>TTC9</td>\n",
       "      <td>hgnc:20267</td>\n",
       "    </tr>\n",
       "    <tr>\n",
       "      <th>11</th>\n",
       "      <td>FABP4</td>\n",
       "      <td>hgnc:3559</td>\n",
       "    </tr>\n",
       "    <tr>\n",
       "      <th>12</th>\n",
       "      <td>GPCPD1</td>\n",
       "      <td>hgnc:26957</td>\n",
       "    </tr>\n",
       "    <tr>\n",
       "      <th>13</th>\n",
       "      <td>VSNL1</td>\n",
       "      <td>hgnc:12722</td>\n",
       "    </tr>\n",
       "    <tr>\n",
       "      <th>14</th>\n",
       "      <td>CRYBB1</td>\n",
       "      <td>hgnc:2397</td>\n",
       "    </tr>\n",
       "    <tr>\n",
       "      <th>15</th>\n",
       "      <td>PDZD8</td>\n",
       "      <td>hgnc:26974</td>\n",
       "    </tr>\n",
       "    <tr>\n",
       "      <th>16</th>\n",
       "      <td>FNDC3A</td>\n",
       "      <td>hgnc:20296</td>\n",
       "    </tr>\n",
       "  </tbody>\n",
       "</table>\n",
       "</div>"
      ],
      "text/plain": [
       "        name     gene_id\n",
       "0       GLCE  hgnc:17855\n",
       "1      ACSL5  hgnc:16526\n",
       "2     APCDD1  hgnc:15718\n",
       "3   ADAMTSL2  hgnc:14631\n",
       "4     CALML3   hgnc:1452\n",
       "5     CEMIP2  hgnc:11869\n",
       "6       AMOT  hgnc:17810\n",
       "7    PLA2G4A   hgnc:9034\n",
       "8    PLA2G4A   hgnc:9035\n",
       "9       RCN2   hgnc:9935\n",
       "10      TTC9  hgnc:20267\n",
       "11     FABP4   hgnc:3559\n",
       "12    GPCPD1  hgnc:26957\n",
       "13     VSNL1  hgnc:12722\n",
       "14    CRYBB1   hgnc:2397\n",
       "15     PDZD8  hgnc:26974\n",
       "16    FNDC3A  hgnc:20296"
      ]
     },
     "execution_count": 106,
     "metadata": {},
     "output_type": "execute_result"
    }
   ],
   "source": [
    "# method to get gene ids for protiens of interest\n",
    "def get_gene_ids():\n",
    "    \"\"\"\n",
    "    Parameters\n",
    "    ----------\n",
    "    none\n",
    "\n",
    "    Returns\n",
    "    -------\n",
    "    id_df: dataframe that contains gene ids for unique protein list\n",
    "        \n",
    "    \"\"\"\n",
    "    id_df_list = []\n",
    "    # iterates through the gene names\n",
    "    for names in unique:\n",
    "        # cypher query to get the gene ids \n",
    "        cypher = f\"MATCH p=(n:BioEntity) WHERE n.name = '{names}' AND n.id starts with 'hgnc' RETURN n.name, n.id\"\n",
    "        results = client.query_tx(cypher)\n",
    "        # save and loads results into a dataframe for each gene id\n",
    "        id_df_list.append(pd.DataFrame(results, columns=[\"name\", \"gene_id\"]))\n",
    "    # combines the dataframes into a single dataframe\n",
    "    id_df = pd.concat(id_df_list, ignore_index=True)  \n",
    "    return id_df\n",
    "id_df = get_gene_ids()\n",
    "id_df"
   ]
  },
  {
   "cell_type": "code",
   "execution_count": 9,
   "id": "42dae59f-3113-4175-b13c-e9cf4461b75c",
   "metadata": {},
   "outputs": [
    {
     "name": "stderr",
     "output_type": "stream",
     "text": [
      "INFO: [2024-07-10 02:12:24] indra_cogex.client.neo4j_client - Using configured URL for INDRA neo4j connection\n",
      "INFO: [2024-07-10 02:12:24] indra_cogex.client.neo4j_client - Using configured credentials for INDRA neo4j connection\n"
     ]
    },
    {
     "name": "stdout",
     "output_type": "stream",
     "text": [
      "These are the shared pathways for GLCE and CTNNB1:\n"
     ]
    },
    {
     "name": "stderr",
     "output_type": "stream",
     "text": [
      "INFO: [2024-07-10 02:12:24] indra_cogex.client.neo4j_client - Using configured URL for INDRA neo4j connection\n",
      "INFO: [2024-07-10 02:12:24] indra_cogex.client.neo4j_client - Using configured credentials for INDRA neo4j connection\n"
     ]
    },
    {
     "name": "stdout",
     "output_type": "stream",
     "text": [
      "[]\n",
      "These are the shared pathways for ACSL5 and CTNNB1:\n"
     ]
    },
    {
     "name": "stderr",
     "output_type": "stream",
     "text": [
      "INFO: [2024-07-10 02:12:25] indra_cogex.client.neo4j_client - Using configured URL for INDRA neo4j connection\n",
      "INFO: [2024-07-10 02:12:25] indra_cogex.client.neo4j_client - Using configured credentials for INDRA neo4j connection\n"
     ]
    },
    {
     "name": "stdout",
     "output_type": "stream",
     "text": [
      "[]\n",
      "These are the shared pathways for APCDD1 and CTNNB1:\n"
     ]
    },
    {
     "name": "stderr",
     "output_type": "stream",
     "text": [
      "INFO: [2024-07-10 02:12:25] indra_cogex.client.neo4j_client - Using configured URL for INDRA neo4j connection\n",
      "INFO: [2024-07-10 02:12:25] indra_cogex.client.neo4j_client - Using configured credentials for INDRA neo4j connection\n"
     ]
    },
    {
     "name": "stdout",
     "output_type": "stream",
     "text": [
      "[]\n",
      "These are the shared pathways for ADAMTSL2 and CTNNB1:\n"
     ]
    },
    {
     "name": "stderr",
     "output_type": "stream",
     "text": [
      "INFO: [2024-07-10 02:12:26] indra_cogex.client.neo4j_client - Using configured URL for INDRA neo4j connection\n",
      "INFO: [2024-07-10 02:12:26] indra_cogex.client.neo4j_client - Using configured credentials for INDRA neo4j connection\n"
     ]
    },
    {
     "name": "stdout",
     "output_type": "stream",
     "text": [
      "[(:BioEntity { id:'WIKIPATHWAYS:WP4816', name:'TGF beta receptor signaling in skeletal dysplasias', version:'20240101' }), (:BioEntity { id:'REACTOME:R-HSA-1643685', name:'Disease', version:'87' }), (:BioEntity { id:'REACTOME:R-HSA-392499', name:'Metabolism of proteins', version:'87' })]\n",
      "These are the shared pathways for CALML3 and CTNNB1:\n"
     ]
    },
    {
     "name": "stderr",
     "output_type": "stream",
     "text": [
      "INFO: [2024-07-10 02:12:26] indra_cogex.client.neo4j_client - Using configured URL for INDRA neo4j connection\n",
      "INFO: [2024-07-10 02:12:26] indra_cogex.client.neo4j_client - Using configured credentials for INDRA neo4j connection\n"
     ]
    },
    {
     "name": "stdout",
     "output_type": "stream",
     "text": [
      "[(:BioEntity { id:'WIKIPATHWAYS:WP5124', name:'Alzheimer 39 s disease', version:'20240101' }), (:BioEntity { id:'WIKIPATHWAYS:WP2059', name:'Alzheimer 39 s disease and miRNA effects', version:'20240101' })]\n",
      "These are the shared pathways for CEMIP2 and CTNNB1:\n"
     ]
    },
    {
     "name": "stderr",
     "output_type": "stream",
     "text": [
      "INFO: [2024-07-10 02:12:27] indra_cogex.client.neo4j_client - Using configured URL for INDRA neo4j connection\n",
      "INFO: [2024-07-10 02:12:27] indra_cogex.client.neo4j_client - Using configured credentials for INDRA neo4j connection\n"
     ]
    },
    {
     "name": "stdout",
     "output_type": "stream",
     "text": [
      "[]\n",
      "These are the shared pathways for AMOT and CTNNB1:\n"
     ]
    },
    {
     "name": "stderr",
     "output_type": "stream",
     "text": [
      "INFO: [2024-07-10 02:12:27] indra_cogex.client.neo4j_client - Using configured URL for INDRA neo4j connection\n",
      "INFO: [2024-07-10 02:12:27] indra_cogex.client.neo4j_client - Using configured credentials for INDRA neo4j connection\n"
     ]
    },
    {
     "name": "stdout",
     "output_type": "stream",
     "text": [
      "[(:BioEntity { id:'WIKIPATHWAYS:WP5087', name:'Pleural mesothelioma', version:'20240101' }), (:BioEntity { id:'WIKIPATHWAYS:WP4541', name:'Hippo Merlin signaling dysregulation', version:'20240101' }), (:BioEntity { id:'WIKIPATHWAYS:WP3888', name:'VEGFA VEGFR2 signaling', version:'20240101' }), (:BioEntity { id:'REACTOME:R-HSA-9764260', name:'Regulation of Expression and Function of Type II Classical Cadherins', version:'87' }), (:BioEntity { id:'REACTOME:R-HSA-9762292', name:'Regulation of CDH11 function', version:'87' }), (:BioEntity { id:'REACTOME:R-HSA-9759476', name:'Regulation of Homotypic Cell-Cell Adhesion', version:'87' }), (:BioEntity { id:'REACTOME:R-HSA-9759475', name:'Regulation of CDH11 Expression and Function', version:'87' }), (:BioEntity { id:'REACTOME:R-HSA-162582', name:'Signal Transduction', version:'87' }), (:BioEntity { id:'REACTOME:R-HSA-1500931', name:'Cell-Cell communication', version:'87' }), (:BioEntity { id:'REACTOME:R-HSA-446728', name:'Cell junction organization', version:'87' }), (:BioEntity { id:'REACTOME:R-HSA-421270', name:'Cell-cell junction organization', version:'87' }), (:BioEntity { id:'REACTOME:R-HSA-418990', name:'Adherens junctions interactions', version:'87' })]\n",
      "These are the shared pathways for PLA2G4A and CTNNB1:\n"
     ]
    },
    {
     "name": "stderr",
     "output_type": "stream",
     "text": [
      "INFO: [2024-07-10 02:12:28] indra_cogex.client.neo4j_client - Using configured URL for INDRA neo4j connection\n",
      "INFO: [2024-07-10 02:12:28] indra_cogex.client.neo4j_client - Using configured credentials for INDRA neo4j connection\n"
     ]
    },
    {
     "name": "stdout",
     "output_type": "stream",
     "text": [
      "[]\n",
      "These are the shared pathways for PLA2G4A and CTNNB1:\n"
     ]
    },
    {
     "name": "stderr",
     "output_type": "stream",
     "text": [
      "INFO: [2024-07-10 02:12:28] indra_cogex.client.neo4j_client - Using configured URL for INDRA neo4j connection\n",
      "INFO: [2024-07-10 02:12:28] indra_cogex.client.neo4j_client - Using configured credentials for INDRA neo4j connection\n"
     ]
    },
    {
     "name": "stdout",
     "output_type": "stream",
     "text": [
      "[(:BioEntity { id:'WIKIPATHWAYS:WP3888', name:'VEGFA VEGFR2 signaling', version:'20240101' }), (:BioEntity { id:'REACTOME:R-HSA-162582', name:'Signal Transduction', version:'87' })]\n",
      "These are the shared pathways for RCN2 and CTNNB1:\n"
     ]
    },
    {
     "name": "stderr",
     "output_type": "stream",
     "text": [
      "INFO: [2024-07-10 02:12:29] indra_cogex.client.neo4j_client - Using configured URL for INDRA neo4j connection\n",
      "INFO: [2024-07-10 02:12:29] indra_cogex.client.neo4j_client - Using configured credentials for INDRA neo4j connection\n"
     ]
    },
    {
     "name": "stdout",
     "output_type": "stream",
     "text": [
      "[]\n",
      "These are the shared pathways for TTC9 and CTNNB1:\n"
     ]
    },
    {
     "name": "stderr",
     "output_type": "stream",
     "text": [
      "INFO: [2024-07-10 02:12:29] indra_cogex.client.neo4j_client - Using configured URL for INDRA neo4j connection\n",
      "INFO: [2024-07-10 02:12:29] indra_cogex.client.neo4j_client - Using configured credentials for INDRA neo4j connection\n"
     ]
    },
    {
     "name": "stdout",
     "output_type": "stream",
     "text": [
      "[]\n",
      "These are the shared pathways for FABP4 and CTNNB1:\n"
     ]
    },
    {
     "name": "stderr",
     "output_type": "stream",
     "text": [
      "INFO: [2024-07-10 02:12:30] indra_cogex.client.neo4j_client - Using configured URL for INDRA neo4j connection\n",
      "INFO: [2024-07-10 02:12:30] indra_cogex.client.neo4j_client - Using configured credentials for INDRA neo4j connection\n"
     ]
    },
    {
     "name": "stdout",
     "output_type": "stream",
     "text": [
      "[(:BioEntity { id:'WIKIPATHWAYS:WP5087', name:'Pleural mesothelioma', version:'20240101' }), (:BioEntity { id:'REACTOME:R-HSA-1266738', name:'Developmental Biology', version:'87' })]\n",
      "These are the shared pathways for GPCPD1 and CTNNB1:\n"
     ]
    },
    {
     "name": "stderr",
     "output_type": "stream",
     "text": [
      "INFO: [2024-07-10 02:12:30] indra_cogex.client.neo4j_client - Using configured URL for INDRA neo4j connection\n",
      "INFO: [2024-07-10 02:12:30] indra_cogex.client.neo4j_client - Using configured credentials for INDRA neo4j connection\n"
     ]
    },
    {
     "name": "stdout",
     "output_type": "stream",
     "text": [
      "[]\n",
      "These are the shared pathways for VSNL1 and CTNNB1:\n"
     ]
    },
    {
     "name": "stderr",
     "output_type": "stream",
     "text": [
      "INFO: [2024-07-10 02:12:31] indra_cogex.client.neo4j_client - Using configured URL for INDRA neo4j connection\n",
      "INFO: [2024-07-10 02:12:31] indra_cogex.client.neo4j_client - Using configured credentials for INDRA neo4j connection\n"
     ]
    },
    {
     "name": "stdout",
     "output_type": "stream",
     "text": [
      "[]\n",
      "These are the shared pathways for CRYBB1 and CTNNB1:\n"
     ]
    },
    {
     "name": "stderr",
     "output_type": "stream",
     "text": [
      "INFO: [2024-07-10 02:12:32] indra_cogex.client.neo4j_client - Using configured URL for INDRA neo4j connection\n",
      "INFO: [2024-07-10 02:12:32] indra_cogex.client.neo4j_client - Using configured credentials for INDRA neo4j connection\n"
     ]
    },
    {
     "name": "stdout",
     "output_type": "stream",
     "text": [
      "[]\n",
      "These are the shared pathways for PDZD8 and CTNNB1:\n"
     ]
    },
    {
     "name": "stderr",
     "output_type": "stream",
     "text": [
      "INFO: [2024-07-10 02:12:32] indra_cogex.client.neo4j_client - Using configured URL for INDRA neo4j connection\n",
      "INFO: [2024-07-10 02:12:32] indra_cogex.client.neo4j_client - Using configured credentials for INDRA neo4j connection\n"
     ]
    },
    {
     "name": "stdout",
     "output_type": "stream",
     "text": [
      "[]\n",
      "These are the shared pathways for FNDC3A and CTNNB1:\n",
      "[]\n"
     ]
    }
   ],
   "source": [
    "def shared_pathway():\n",
    "    \"\"\"\n",
    "    Parameters\n",
    "    ----------\n",
    "    none\n",
    "\n",
    "    Returns\n",
    "    -------\n",
    "    none\n",
    "        \n",
    "    \"\"\"\n",
    "    # iterates through ids and names of unique genes \n",
    "    for ids, names in zip(id_df[\"gene_id\"].values, id_df[\"name\"].values):\n",
    "        # gets the numerical part of the string\n",
    "        id = ids[5:]\n",
    "        print(\"These are the shared pathways for\", names, \"and CTNNB1:\") \n",
    "        print(get_shared_pathways_for_genes(((\"HGNC\", id),(\"HGNC\", \"2514\"))))\n",
    "shared_pathway()"
   ]
  },
  {
   "cell_type": "markdown",
   "id": "5496f289-ec12-4a0b-932a-236c25b8eef2",
   "metadata": {},
   "source": [
    "## Further Pathway Exploration"
   ]
  },
  {
   "cell_type": "markdown",
   "id": "12ab48bc-6de5-4f54-9f8c-f6ceaf25189f",
   "metadata": {},
   "source": [
    "Explores the proteins that belong to the specific Wnt/B-catenin pathway, and finds intersections of proteins between the 4 lists given:\n",
    "Unique proteins (the proteins that belong to the top_25 list but do not appear in the paper, top_25, paper proteins, and Wnt pathway (proteins that belong to the pathway created off Google Search)"
   ]
  },
  {
   "cell_type": "code",
   "execution_count": 6,
   "id": "02291b08-95a0-4b73-bcb1-3820f03a8f3d",
   "metadata": {},
   "outputs": [
    {
     "name": "stderr",
     "output_type": "stream",
     "text": [
      "INFO: [2024-07-10 02:12:23] indra_cogex.client.neo4j_client - Using configured URL for INDRA neo4j connection\n",
      "INFO: [2024-07-10 02:12:23] indra_cogex.client.neo4j_client - Using configured credentials for INDRA neo4j connection\n"
     ]
    },
    {
     "data": {
      "text/plain": [
       "[(:BioEntity { id:'REACTOME:R-HSA-201722', name:'Formation of the beta-catenin:TCF transactivating complex', version:'87' }),\n",
       " (:BioEntity { id:'REACTOME:R-HSA-201681', name:'TCF dependent signaling in response to WNT', version:'87' }),\n",
       " (:BioEntity { id:'REACTOME:R-HSA-195721', name:'Signaling by WNT', version:'87' }),\n",
       " (:BioEntity { id:'REACTOME:R-HSA-9764260', name:'Regulation of Expression and Function of Type II Classical Cadherins', version:'87' }),\n",
       " (:BioEntity { id:'REACTOME:R-HSA-9762292', name:'Regulation of CDH11 function', version:'87' }),\n",
       " (:BioEntity { id:'REACTOME:R-HSA-9759476', name:'Regulation of Homotypic Cell-Cell Adhesion', version:'87' }),\n",
       " (:BioEntity { id:'REACTOME:R-HSA-9759475', name:'Regulation of CDH11 Expression and Function', version:'87' }),\n",
       " (:BioEntity { id:'REACTOME:R-HSA-162582', name:'Signal Transduction', version:'87' }),\n",
       " (:BioEntity { id:'REACTOME:R-HSA-1500931', name:'Cell-Cell communication', version:'87' }),\n",
       " (:BioEntity { id:'REACTOME:R-HSA-1266738', name:'Developmental Biology', version:'87' }),\n",
       " (:BioEntity { id:'REACTOME:R-HSA-525793', name:'Myogenesis', version:'87' }),\n",
       " (:BioEntity { id:'REACTOME:R-HSA-4641262', name:'Disassembly of the destruction complex and recruitment of AXIN to the membrane', version:'87' }),\n",
       " (:BioEntity { id:'REACTOME:R-HSA-446728', name:'Cell junction organization', version:'87' }),\n",
       " (:BioEntity { id:'REACTOME:R-HSA-421270', name:'Cell-cell junction organization', version:'87' }),\n",
       " (:BioEntity { id:'REACTOME:R-HSA-418990', name:'Adherens junctions interactions', version:'87' })]"
      ]
     },
     "execution_count": 6,
     "metadata": {},
     "output_type": "execute_result"
    }
   ],
   "source": [
    "# will use the first pathway as it specifies the formation of beta-catenin\n",
    "get_shared_pathways_for_genes(((\"HGNC\", \"2514\"),(\"HGNC\", \"2514\")))"
   ]
  },
  {
   "cell_type": "code",
   "execution_count": 93,
   "id": "67d17c62-de35-4b81-990c-dbc5e2bf8f48",
   "metadata": {},
   "outputs": [
    {
     "name": "stderr",
     "output_type": "stream",
     "text": [
      "INFO: [2024-07-10 08:27:46] indra_cogex.client.neo4j_client - Using configured URL for INDRA neo4j connection\n",
      "INFO: [2024-07-10 08:27:46] indra_cogex.client.neo4j_client - Using configured credentials for INDRA neo4j connection\n"
     ]
    },
    {
     "name": "stdout",
     "output_type": "stream",
     "text": [
      "set()\n",
      "{'LEF1', 'CTNNB1'}\n",
      "{'LEF1', 'CTNNB1'}\n",
      "{'CTNNB1', 'AXIN2', 'LEF1', 'MYC', 'TCF7'}\n"
     ]
    }
   ],
   "source": [
    "# this method finds shared proteins between 4 lists (unique, top_25, paper_proteins and bcat_pathway) and genes from\n",
    "# the Formation of the beta-catenin:TCF transactivating complex pathway (REACTOME:R-HSA-201722)\n",
    "\n",
    "def find_intersections():\n",
    "    \"\"\"\n",
    "    Parameters\n",
    "    ----------\n",
    "    none\n",
    "\n",
    "    Returns\n",
    "    -------\n",
    "    none\n",
    "        \n",
    "    \"\"\"\n",
    "    # gets all the genes part of the specific wnt-signaling pathway that forms b-catenin\n",
    "    conv_genes = get_genes_for_pathway((\"REACTOME\", \"R-HSA-201722\"))\n",
    "    \n",
    "    wnt_path_genes = []\n",
    "    # iterates through the genes in the list\n",
    "    for genes in conv_genes:\n",
    "        # changes the type to string and splits it\n",
    "        text = str(genes)\n",
    "        words = text.split()  \n",
    "        # iterates through each word in the list of strings\n",
    "        for word in words:\n",
    "            # if statement to get just the gene name\n",
    "            if word.startswith(\"name:\"):\n",
    "                wnt_path_genes.append(word[6:-2])\n",
    "\n",
    "    # now uses .intersection() with each of the 4 lists to find intersections\n",
    "    print(set(unique).intersection(set(wnt_path_genes)))\n",
    "    print(set(top_25).intersection(set(wnt_path_genes)))\n",
    "    print(set(paper_proteins).intersection(set(wnt_path_genes)))\n",
    "    print(set(bcat_pathway).intersection(set(wnt_path_genes)))\n",
    "\n",
    "find_intersections()"
   ]
  },
  {
   "cell_type": "markdown",
   "id": "536ee9eb-02ef-4548-b9ef-3580ed0f7190",
   "metadata": {},
   "source": []
  },
  {
   "cell_type": "markdown",
   "id": "40f2dfb8-1d24-4f99-bd00-9a2cf781386e",
   "metadata": {},
   "source": [
    "## Finding Same Protein Families/Complexes"
   ]
  },
  {
   "cell_type": "markdown",
   "id": "e44f7fa4-b731-414b-bf49-adb182d87972",
   "metadata": {},
   "source": [
    "Determining if unique proteins belong to the same protein families or complexes as CTNNB1"
   ]
  },
  {
   "cell_type": "code",
   "execution_count": 84,
   "id": "7c7f74d0-0808-4d64-8093-2145e554d32a",
   "metadata": {},
   "outputs": [
    {
     "name": "stderr",
     "output_type": "stream",
     "text": [
      "INFO: [2024-07-10 08:06:53] indra_cogex.client.neo4j_client - Using configured URL for INDRA neo4j connection\n",
      "INFO: [2024-07-10 08:06:53] indra_cogex.client.neo4j_client - Using configured credentials for INDRA neo4j connection\n"
     ]
    },
    {
     "name": "stdout",
     "output_type": "stream",
     "text": [
      "Are GLCE and CTNNB1 part of the same family\n"
     ]
    },
    {
     "name": "stderr",
     "output_type": "stream",
     "text": [
      "INFO: [2024-07-10 08:06:53] indra_cogex.client.neo4j_client - Using configured URL for INDRA neo4j connection\n",
      "INFO: [2024-07-10 08:06:53] indra_cogex.client.neo4j_client - Using configured credentials for INDRA neo4j connection\n"
     ]
    },
    {
     "name": "stdout",
     "output_type": "stream",
     "text": [
      "False\n",
      "Are ACSL5 and CTNNB1 part of the same family\n"
     ]
    },
    {
     "name": "stderr",
     "output_type": "stream",
     "text": [
      "INFO: [2024-07-10 08:06:54] indra_cogex.client.neo4j_client - Using configured URL for INDRA neo4j connection\n",
      "INFO: [2024-07-10 08:06:54] indra_cogex.client.neo4j_client - Using configured credentials for INDRA neo4j connection\n"
     ]
    },
    {
     "name": "stdout",
     "output_type": "stream",
     "text": [
      "False\n",
      "Are APCDD1 and CTNNB1 part of the same family\n"
     ]
    },
    {
     "name": "stderr",
     "output_type": "stream",
     "text": [
      "INFO: [2024-07-10 08:06:54] indra_cogex.client.neo4j_client - Using configured URL for INDRA neo4j connection\n",
      "INFO: [2024-07-10 08:06:54] indra_cogex.client.neo4j_client - Using configured credentials for INDRA neo4j connection\n"
     ]
    },
    {
     "name": "stdout",
     "output_type": "stream",
     "text": [
      "False\n",
      "Are ADAMTSL2 and CTNNB1 part of the same family\n"
     ]
    },
    {
     "name": "stderr",
     "output_type": "stream",
     "text": [
      "INFO: [2024-07-10 08:06:55] indra_cogex.client.neo4j_client - Using configured URL for INDRA neo4j connection\n",
      "INFO: [2024-07-10 08:06:55] indra_cogex.client.neo4j_client - Using configured credentials for INDRA neo4j connection\n"
     ]
    },
    {
     "name": "stdout",
     "output_type": "stream",
     "text": [
      "False\n",
      "Are CALML3 and CTNNB1 part of the same family\n"
     ]
    },
    {
     "name": "stderr",
     "output_type": "stream",
     "text": [
      "INFO: [2024-07-10 08:06:55] indra_cogex.client.neo4j_client - Using configured URL for INDRA neo4j connection\n",
      "INFO: [2024-07-10 08:06:55] indra_cogex.client.neo4j_client - Using configured credentials for INDRA neo4j connection\n"
     ]
    },
    {
     "name": "stdout",
     "output_type": "stream",
     "text": [
      "False\n",
      "Are CEMIP2 and CTNNB1 part of the same family\n"
     ]
    },
    {
     "name": "stderr",
     "output_type": "stream",
     "text": [
      "INFO: [2024-07-10 08:06:56] indra_cogex.client.neo4j_client - Using configured URL for INDRA neo4j connection\n",
      "INFO: [2024-07-10 08:06:56] indra_cogex.client.neo4j_client - Using configured credentials for INDRA neo4j connection\n"
     ]
    },
    {
     "name": "stdout",
     "output_type": "stream",
     "text": [
      "False\n",
      "Are AMOT and CTNNB1 part of the same family\n"
     ]
    },
    {
     "name": "stderr",
     "output_type": "stream",
     "text": [
      "INFO: [2024-07-10 08:06:56] indra_cogex.client.neo4j_client - Using configured URL for INDRA neo4j connection\n",
      "INFO: [2024-07-10 08:06:56] indra_cogex.client.neo4j_client - Using configured credentials for INDRA neo4j connection\n"
     ]
    },
    {
     "name": "stdout",
     "output_type": "stream",
     "text": [
      "False\n",
      "Are PLA2G4A and CTNNB1 part of the same family\n"
     ]
    },
    {
     "name": "stderr",
     "output_type": "stream",
     "text": [
      "INFO: [2024-07-10 08:06:57] indra_cogex.client.neo4j_client - Using configured URL for INDRA neo4j connection\n",
      "INFO: [2024-07-10 08:06:57] indra_cogex.client.neo4j_client - Using configured credentials for INDRA neo4j connection\n"
     ]
    },
    {
     "name": "stdout",
     "output_type": "stream",
     "text": [
      "False\n",
      "Are PLA2G4A and CTNNB1 part of the same family\n"
     ]
    },
    {
     "name": "stderr",
     "output_type": "stream",
     "text": [
      "INFO: [2024-07-10 08:06:57] indra_cogex.client.neo4j_client - Using configured URL for INDRA neo4j connection\n",
      "INFO: [2024-07-10 08:06:57] indra_cogex.client.neo4j_client - Using configured credentials for INDRA neo4j connection\n"
     ]
    },
    {
     "name": "stdout",
     "output_type": "stream",
     "text": [
      "False\n",
      "Are RCN2 and CTNNB1 part of the same family\n"
     ]
    },
    {
     "name": "stderr",
     "output_type": "stream",
     "text": [
      "INFO: [2024-07-10 08:06:58] indra_cogex.client.neo4j_client - Using configured URL for INDRA neo4j connection\n",
      "INFO: [2024-07-10 08:06:58] indra_cogex.client.neo4j_client - Using configured credentials for INDRA neo4j connection\n"
     ]
    },
    {
     "name": "stdout",
     "output_type": "stream",
     "text": [
      "False\n",
      "Are TTC9 and CTNNB1 part of the same family\n"
     ]
    },
    {
     "name": "stderr",
     "output_type": "stream",
     "text": [
      "INFO: [2024-07-10 08:06:58] indra_cogex.client.neo4j_client - Using configured URL for INDRA neo4j connection\n",
      "INFO: [2024-07-10 08:06:58] indra_cogex.client.neo4j_client - Using configured credentials for INDRA neo4j connection\n"
     ]
    },
    {
     "name": "stdout",
     "output_type": "stream",
     "text": [
      "False\n",
      "Are FABP4 and CTNNB1 part of the same family\n"
     ]
    },
    {
     "name": "stderr",
     "output_type": "stream",
     "text": [
      "INFO: [2024-07-10 08:06:59] indra_cogex.client.neo4j_client - Using configured URL for INDRA neo4j connection\n",
      "INFO: [2024-07-10 08:06:59] indra_cogex.client.neo4j_client - Using configured credentials for INDRA neo4j connection\n"
     ]
    },
    {
     "name": "stdout",
     "output_type": "stream",
     "text": [
      "False\n",
      "Are GPCPD1 and CTNNB1 part of the same family\n"
     ]
    },
    {
     "name": "stderr",
     "output_type": "stream",
     "text": [
      "INFO: [2024-07-10 08:06:59] indra_cogex.client.neo4j_client - Using configured URL for INDRA neo4j connection\n",
      "INFO: [2024-07-10 08:06:59] indra_cogex.client.neo4j_client - Using configured credentials for INDRA neo4j connection\n"
     ]
    },
    {
     "name": "stdout",
     "output_type": "stream",
     "text": [
      "False\n",
      "Are VSNL1 and CTNNB1 part of the same family\n"
     ]
    },
    {
     "name": "stderr",
     "output_type": "stream",
     "text": [
      "INFO: [2024-07-10 08:07:00] indra_cogex.client.neo4j_client - Using configured URL for INDRA neo4j connection\n",
      "INFO: [2024-07-10 08:07:00] indra_cogex.client.neo4j_client - Using configured credentials for INDRA neo4j connection\n"
     ]
    },
    {
     "name": "stdout",
     "output_type": "stream",
     "text": [
      "False\n",
      "Are CRYBB1 and CTNNB1 part of the same family\n"
     ]
    },
    {
     "name": "stderr",
     "output_type": "stream",
     "text": [
      "INFO: [2024-07-10 08:07:00] indra_cogex.client.neo4j_client - Using configured URL for INDRA neo4j connection\n",
      "INFO: [2024-07-10 08:07:00] indra_cogex.client.neo4j_client - Using configured credentials for INDRA neo4j connection\n"
     ]
    },
    {
     "name": "stdout",
     "output_type": "stream",
     "text": [
      "False\n",
      "Are PDZD8 and CTNNB1 part of the same family\n"
     ]
    },
    {
     "name": "stderr",
     "output_type": "stream",
     "text": [
      "INFO: [2024-07-10 08:07:01] indra_cogex.client.neo4j_client - Using configured URL for INDRA neo4j connection\n",
      "INFO: [2024-07-10 08:07:01] indra_cogex.client.neo4j_client - Using configured credentials for INDRA neo4j connection\n"
     ]
    },
    {
     "name": "stdout",
     "output_type": "stream",
     "text": [
      "False\n",
      "Are FNDC3A and CTNNB1 part of the same family\n",
      "False\n"
     ]
    }
   ],
   "source": [
    "# query that did not work\n",
    "#for ids in id_df[\"gene_id\"].values:\n",
    "        #cypher = f\"MATCH p=(n:BioEntity)-[r:haspart]->(family:BioEntity)<-[r2:haspart]-(m:BioEntity) WHERE n.id = {ids} AND m.id = 'hgnc:2514' RETURN family\"\n",
    "        #proteins = client.query_tx(cypher)\n",
    "\n",
    "def finding_complexes0():\n",
    "    #iterates through the ids and names of the unique proteins \n",
    "    for ids, names in zip(id_df[\"gene_id\"].values, id_df[\"name\"].values):\n",
    "        # gets the numerical part of the string only\n",
    "        id = ids[5:]\n",
    "        print(\"Are\", names, \"and CTNNB1 part of the same family\") \n",
    "        # uses isa_or_partof() to determine if protein is a child of CTNNB1\n",
    "        print(isa_or_partof((\"HGNC\", id),(\"HGNC\", \"2514\")))\n",
    "       \n",
    "finding_complexes0()"
   ]
  },
  {
   "cell_type": "markdown",
   "id": "b83a9cd1-65d3-4178-b21e-cefd140b745b",
   "metadata": {},
   "source": [
    "## Exploring Protein Families/Complexes Further"
   ]
  },
  {
   "cell_type": "markdown",
   "id": "3f8f1be8-21ec-4f4e-80b0-7a2c36fb769e",
   "metadata": {},
   "source": [
    "Potential go ids of interest for CTNNB1: (:BioEntity { id:'GO:GO:0030877', name:'beta-catenin destruction complex', type:'protein_family_complex' }),\n",
    "(:BioEntity { id:'GO:GO:0032991', name:'protein-containing complex', type:'protein_family_complex' }),\n",
    "(:BioEntity { id:'GO:GO:0032993', name:'protein-DNA complex', type:'protein_family_complex' }),\n",
    "(:BioEntity { id:'GO:GO:0060070', name:'canonical Wnt signaling pathway', type:'biological_process' }),\n",
    "(:BioEntity { id:'GO:GO:0070369', name:'beta-catenin-TCF7L2 complex', type:'protein_family_complex' }),\n",
    "(:BioEntity { id:'GO:GO:1990907', name:'beta-catenin-TCF complex', type:'protein_family_complex' }),"
   ]
  },
  {
   "cell_type": "code",
   "execution_count": 21,
   "id": "0fa4a5af-5e6b-4ab9-b2ba-e14bd599f945",
   "metadata": {},
   "outputs": [
    {
     "name": "stderr",
     "output_type": "stream",
     "text": [
      "INFO: [2024-07-10 02:29:32] indra_cogex.client.neo4j_client - Using configured URL for INDRA neo4j connection\n",
      "INFO: [2024-07-10 02:29:32] indra_cogex.client.neo4j_client - Using configured credentials for INDRA neo4j connection\n"
     ]
    }
   ],
   "source": [
    "def get_go_terms_for_target():\n",
    "    \"\"\"\n",
    "    Parameters\n",
    "    ----------\n",
    "    none\n",
    "\n",
    "    Returns\n",
    "    -------\n",
    "    ctnnb1_go: contains list of GO terms for CTNNB1\n",
    "    go_nodes: contains list of node objects that has information about GO terms for CTNNB1\n",
    "        \n",
    "    \"\"\"\n",
    "    # these are the GO terms for CTNNB1\n",
    "    go_nodes = get_go_terms_for_gene((\"HGNC\", \"2514\"))\n",
    "    ctnnb1_go = []\n",
    "    # iterates through the genes in the list\n",
    "    for genes in go_nodes:\n",
    "        # changes the type to string and splits it\n",
    "        text = str(genes)\n",
    "        words = text.split()  \n",
    "        # iterates through each word in the list of strings\n",
    "        for word in words:\n",
    "            # if statement to get just the gene name\n",
    "            if word.startswith(\"id:\"):\n",
    "                ctnnb1_go.append(word[7:-2].lower())\n",
    "    return ctnnb1_go, go_nodes\n",
    "ctnnb1_go,go_nodes = get_go_terms_for_target()\n"
   ]
  },
  {
   "cell_type": "code",
   "execution_count": 94,
   "id": "a733cc90-5ae9-45fb-977d-f5e784d94f01",
   "metadata": {},
   "outputs": [
    {
     "name": "stderr",
     "output_type": "stream",
     "text": [
      "INFO: [2024-07-10 08:32:47] indra_cogex.client.neo4j_client - Using configured URL for INDRA neo4j connection\n",
      "INFO: [2024-07-10 08:32:47] indra_cogex.client.neo4j_client - Using configured credentials for INDRA neo4j connection\n"
     ]
    },
    {
     "name": "stdout",
     "output_type": "stream",
     "text": [
      "GO terms for GLCE\n"
     ]
    },
    {
     "name": "stderr",
     "output_type": "stream",
     "text": [
      "INFO: [2024-07-10 08:32:47] indra_cogex.client.neo4j_client - Using configured URL for INDRA neo4j connection\n",
      "INFO: [2024-07-10 08:32:47] indra_cogex.client.neo4j_client - Using configured credentials for INDRA neo4j connection\n"
     ]
    },
    {
     "name": "stdout",
     "output_type": "stream",
     "text": [
      "[(:BioEntity { id:'GO:GO:0005509', name:'calcium ion binding', type:'biological_process' }), (:BioEntity { id:'GO:GO:0005794', name:'Golgi apparatus', type:'cellular_location' }), (:BioEntity { id:'GO:GO:0015012', name:'heparan sulfate proteoglycan biosynthetic process', type:'biological_process' }), (:BioEntity { id:'GO:GO:0042803', name:'protein homodimerization activity', type:'biological_process' }), (:BioEntity { id:'GO:GO:0047464', name:'heparosan-N-sulfate-glucuronate 5-epimerase activity', type:'biological_process' })]\n",
      "GO terms for ACSL5\n"
     ]
    },
    {
     "name": "stderr",
     "output_type": "stream",
     "text": [
      "INFO: [2024-07-10 08:32:48] indra_cogex.client.neo4j_client - Using configured URL for INDRA neo4j connection\n",
      "INFO: [2024-07-10 08:32:48] indra_cogex.client.neo4j_client - Using configured credentials for INDRA neo4j connection\n"
     ]
    },
    {
     "name": "stdout",
     "output_type": "stream",
     "text": [
      "[(:BioEntity { id:'GO:GO:0001676', name:'long-chain fatty acid metabolic process', type:'biological_process' }), (:BioEntity { id:'GO:GO:0004467', name:'long-chain fatty acid-CoA ligase activity', type:'biological_process' }), (:BioEntity { id:'GO:GO:0005515', name:'protein binding', type:'biological_process' }), (:BioEntity { id:'GO:GO:0005654', name:'nucleoplasm', type:'cellular_location' }), (:BioEntity { id:'GO:GO:0005730', name:'nucleolus', type:'cellular_location' }), (:BioEntity { id:'GO:GO:0005739', name:'mitochondrion', type:'cellular_location' }), (:BioEntity { id:'GO:GO:0005783', name:'endoplasmic reticulum', type:'cellular_location' }), (:BioEntity { id:'GO:GO:0005886', name:'plasma membrane', type:'cellular_location' }), (:BioEntity { id:'GO:GO:0010747', name:'positive regulation of long-chain fatty acid import across plasma membrane', type:'biological_process' }), (:BioEntity { id:'GO:GO:0016020', name:'membrane', type:'cellular_location' }), (:BioEntity { id:'GO:GO:0035338', name:'long-chain fatty-acyl-CoA biosynthetic process', type:'biological_process' }), (:BioEntity { id:'GO:GO:0047676', name:'arachidonate-CoA ligase activity', type:'biological_process' }), (:BioEntity { id:'GO:GO:0090434', name:'oleoyl-CoA ligase activity', type:'biological_process' })]\n",
      "GO terms for APCDD1\n"
     ]
    },
    {
     "name": "stderr",
     "output_type": "stream",
     "text": [
      "INFO: [2024-07-10 08:32:48] indra_cogex.client.neo4j_client - Using configured URL for INDRA neo4j connection\n",
      "INFO: [2024-07-10 08:32:48] indra_cogex.client.neo4j_client - Using configured credentials for INDRA neo4j connection\n"
     ]
    },
    {
     "name": "stdout",
     "output_type": "stream",
     "text": [
      "[(:BioEntity { id:'GO:GO:0001942', name:'hair follicle development', type:'biological_process' }), (:BioEntity { id:'GO:GO:0005515', name:'protein binding', type:'biological_process' }), (:BioEntity { id:'GO:GO:0005886', name:'plasma membrane', type:'cellular_location' }), (:BioEntity { id:'GO:GO:0017147', name:'Wnt-protein binding', type:'biological_process' }), (:BioEntity { id:'GO:GO:0030178', name:'negative regulation of Wnt signaling pathway', type:'biological_process' }), (:BioEntity { id:'GO:GO:0042802', name:'identical protein binding', type:'biological_process' })]\n",
      "GO terms for ADAMTSL2\n"
     ]
    },
    {
     "name": "stderr",
     "output_type": "stream",
     "text": [
      "INFO: [2024-07-10 08:32:49] indra_cogex.client.neo4j_client - Using configured URL for INDRA neo4j connection\n",
      "INFO: [2024-07-10 08:32:49] indra_cogex.client.neo4j_client - Using configured credentials for INDRA neo4j connection\n"
     ]
    },
    {
     "name": "stdout",
     "output_type": "stream",
     "text": [
      "[(:BioEntity { id:'GO:GO:0005515', name:'protein binding', type:'biological_process' }), (:BioEntity { id:'GO:GO:0030512', name:'negative regulation of transforming growth factor beta receptor signaling pathway', type:'biological_process' }), (:BioEntity { id:'GO:GO:0031012', name:'extracellular matrix', type:'cellular_location' })]\n",
      "GO terms for CALML3\n"
     ]
    },
    {
     "name": "stderr",
     "output_type": "stream",
     "text": [
      "INFO: [2024-07-10 08:32:49] indra_cogex.client.neo4j_client - Using configured URL for INDRA neo4j connection\n",
      "INFO: [2024-07-10 08:32:49] indra_cogex.client.neo4j_client - Using configured credentials for INDRA neo4j connection\n"
     ]
    },
    {
     "name": "stdout",
     "output_type": "stream",
     "text": [
      "[(:BioEntity { id:'GO:GO:0005509', name:'calcium ion binding', type:'biological_process' }), (:BioEntity { id:'GO:GO:0005515', name:'protein binding', type:'biological_process' }), (:BioEntity { id:'GO:GO:0070062', name:'extracellular exosome', type:'cellular_location' })]\n",
      "GO terms for CEMIP2\n"
     ]
    },
    {
     "name": "stderr",
     "output_type": "stream",
     "text": [
      "INFO: [2024-07-10 08:32:50] indra_cogex.client.neo4j_client - Using configured URL for INDRA neo4j connection\n",
      "INFO: [2024-07-10 08:32:50] indra_cogex.client.neo4j_client - Using configured credentials for INDRA neo4j connection\n"
     ]
    },
    {
     "name": "stdout",
     "output_type": "stream",
     "text": [
      "[(:BioEntity { id:'GO:GO:0005509', name:'calcium ion binding', type:'biological_process' }), (:BioEntity { id:'GO:GO:0005730', name:'nucleolus', type:'cellular_location' }), (:BioEntity { id:'GO:GO:0005829', name:'cytosol', type:'cellular_location' }), (:BioEntity { id:'GO:GO:0005886', name:'plasma membrane', type:'cellular_location' }), (:BioEntity { id:'GO:GO:0043231', name:'intracellular membrane-bounded organelle', type:'cellular_location' }), (:BioEntity { id:'GO:GO:0045296', name:'cadherin binding', type:'biological_process' }), (:BioEntity { id:'GO:GO:0070062', name:'extracellular exosome', type:'cellular_location' })]\n",
      "GO terms for AMOT\n"
     ]
    },
    {
     "name": "stderr",
     "output_type": "stream",
     "text": [
      "INFO: [2024-07-10 08:32:51] indra_cogex.client.neo4j_client - Using configured URL for INDRA neo4j connection\n",
      "INFO: [2024-07-10 08:32:51] indra_cogex.client.neo4j_client - Using configured credentials for INDRA neo4j connection\n"
     ]
    },
    {
     "name": "stdout",
     "output_type": "stream",
     "text": [
      "[(:BioEntity { id:'GO:GO:0001525', name:'angiogenesis', type:'biological_process' }), (:BioEntity { id:'GO:GO:0001726', name:'ruffle', type:'cellular_location' }), (:BioEntity { id:'GO:GO:0003365', name:'establishment of cell polarity involved in ameboidal cell migration', type:'biological_process' }), (:BioEntity { id:'GO:GO:0005515', name:'protein binding', type:'biological_process' }), (:BioEntity { id:'GO:GO:0005654', name:'nucleoplasm', type:'cellular_location' }), (:BioEntity { id:'GO:GO:0005884', name:'actin filament', type:'cellular_location' }), (:BioEntity { id:'GO:GO:0005886', name:'plasma membrane', type:'cellular_location' }), (:BioEntity { id:'GO:GO:0005923', name:'bicellular tight junction', type:'cellular_location' }), (:BioEntity { id:'GO:GO:0008180', name:'COP9 signalosome', type:'cellular_location' }), (:BioEntity { id:'GO:GO:0009897', name:'external side of plasma membrane', type:'cellular_location' }), (:BioEntity { id:'GO:GO:0016525', name:'negative regulation of angiogenesis', type:'biological_process' }), (:BioEntity { id:'GO:GO:0030027', name:'lamellipodium', type:'cellular_location' }), (:BioEntity { id:'GO:GO:0030036', name:'actin cytoskeleton organization', type:'biological_process' }), (:BioEntity { id:'GO:GO:0030054', name:'cell junction', type:'cellular_location' }), (:BioEntity { id:'GO:GO:0030139', name:'endocytic vesicle', type:'cellular_location' }), (:BioEntity { id:'GO:GO:0030334', name:'regulation of cell migration', type:'biological_process' }), (:BioEntity { id:'GO:GO:0031410', name:'cytoplasmic vesicle', type:'cellular_location' }), (:BioEntity { id:'GO:GO:0035329', name:'hippo signaling', type:'biological_process' }), (:BioEntity { id:'GO:GO:0038023', name:'signaling receptor activity', type:'biological_process' }), (:BioEntity { id:'GO:GO:0043532', name:'angiostatin binding', type:'biological_process' })]\n",
      "GO terms for PLA2G4A\n"
     ]
    },
    {
     "name": "stderr",
     "output_type": "stream",
     "text": [
      "INFO: [2024-07-10 08:32:51] indra_cogex.client.neo4j_client - Using configured URL for INDRA neo4j connection\n",
      "INFO: [2024-07-10 08:32:51] indra_cogex.client.neo4j_client - Using configured credentials for INDRA neo4j connection\n"
     ]
    },
    {
     "name": "stdout",
     "output_type": "stream",
     "text": [
      "[]\n",
      "GO terms for PLA2G4A\n"
     ]
    },
    {
     "name": "stderr",
     "output_type": "stream",
     "text": [
      "INFO: [2024-07-10 08:32:52] indra_cogex.client.neo4j_client - Using configured URL for INDRA neo4j connection\n",
      "INFO: [2024-07-10 08:32:52] indra_cogex.client.neo4j_client - Using configured credentials for INDRA neo4j connection\n"
     ]
    },
    {
     "name": "stdout",
     "output_type": "stream",
     "text": [
      "[(:BioEntity { id:'GO:GO:0000139', name:'Golgi membrane', type:'cellular_location' }), (:BioEntity { id:'GO:GO:0001516', name:'prostaglandin biosynthetic process', type:'biological_process' }), (:BioEntity { id:'GO:GO:0004622', name:'lysophospholipase activity', type:'biological_process' }), (:BioEntity { id:'GO:GO:0004623', name:'phospholipase A2 activity', type:'biological_process' }), (:BioEntity { id:'GO:GO:0005509', name:'calcium ion binding', type:'biological_process' }), (:BioEntity { id:'GO:GO:0005544', name:'calcium-dependent phospholipid binding', type:'biological_process' }), (:BioEntity { id:'GO:GO:0005634', name:'nucleus', type:'cellular_location' }), (:BioEntity { id:'GO:GO:0005635', name:'nuclear envelope', type:'cellular_location' }), (:BioEntity { id:'GO:GO:0005737', name:'cytoplasm', type:'cellular_location' }), (:BioEntity { id:'GO:GO:0005783', name:'endoplasmic reticulum', type:'cellular_location' }), (:BioEntity { id:'GO:GO:0005794', name:'Golgi apparatus', type:'cellular_location' }), (:BioEntity { id:'GO:GO:0005829', name:'cytosol', type:'cellular_location' }), (:BioEntity { id:'GO:GO:0006640', name:'monoacylglycerol biosynthetic process', type:'biological_process' }), (:BioEntity { id:'GO:GO:0008374', name:'O-acyltransferase activity', type:'biological_process' }), (:BioEntity { id:'GO:GO:0010314', name:'phosphatidylinositol-5-phosphate binding', type:'biological_process' }), (:BioEntity { id:'GO:GO:0010572', name:'positive regulation of platelet activation', type:'biological_process' }), (:BioEntity { id:'GO:GO:0019369', name:'arachidonic acid metabolic process', type:'biological_process' }), (:BioEntity { id:'GO:GO:0019370', name:'leukotriene biosynthetic process', type:'biological_process' }), (:BioEntity { id:'GO:GO:0032266', name:'phosphatidylinositol-3-phosphate binding', type:'biological_process' }), (:BioEntity { id:'GO:GO:0034478', name:'phosphatidylglycerol catabolic process', type:'biological_process' }), (:BioEntity { id:'GO:GO:0034638', name:'phosphatidylcholine catabolic process', type:'biological_process' }), (:BioEntity { id:'GO:GO:0036151', name:'phosphatidylcholine acyl-chain remodeling', type:'biological_process' }), (:BioEntity { id:'GO:GO:0043231', name:'intracellular membrane-bounded organelle', type:'cellular_location' }), (:BioEntity { id:'GO:GO:0046475', name:'glycerophospholipid catabolic process', type:'biological_process' }), (:BioEntity { id:'GO:GO:0047498', name:'calcium-dependent phospholipase A2 activity', type:'biological_process' }), (:BioEntity { id:'GO:GO:0047499', name:'calcium-independent phospholipase A2 activity', type:'biological_process' }), (:BioEntity { id:'GO:GO:0070273', name:'phosphatidylinositol-4-phosphate binding', type:'biological_process' }), (:BioEntity { id:'GO:GO:1902387', name:'ceramide 1-phosphate binding', type:'biological_process' })]\n",
      "GO terms for RCN2\n"
     ]
    },
    {
     "name": "stderr",
     "output_type": "stream",
     "text": [
      "INFO: [2024-07-10 08:32:52] indra_cogex.client.neo4j_client - Using configured URL for INDRA neo4j connection\n",
      "INFO: [2024-07-10 08:32:52] indra_cogex.client.neo4j_client - Using configured credentials for INDRA neo4j connection\n"
     ]
    },
    {
     "name": "stdout",
     "output_type": "stream",
     "text": [
      "[(:BioEntity { id:'GO:GO:0005509', name:'calcium ion binding', type:'biological_process' }), (:BioEntity { id:'GO:GO:0005515', name:'protein binding', type:'biological_process' }), (:BioEntity { id:'GO:GO:0005730', name:'nucleolus', type:'cellular_location' }), (:BioEntity { id:'GO:GO:0005783', name:'endoplasmic reticulum', type:'cellular_location' })]\n",
      "GO terms for TTC9\n"
     ]
    },
    {
     "name": "stderr",
     "output_type": "stream",
     "text": [
      "INFO: [2024-07-10 08:32:53] indra_cogex.client.neo4j_client - Using configured URL for INDRA neo4j connection\n",
      "INFO: [2024-07-10 08:32:53] indra_cogex.client.neo4j_client - Using configured credentials for INDRA neo4j connection\n"
     ]
    },
    {
     "name": "stdout",
     "output_type": "stream",
     "text": [
      "[]\n",
      "GO terms for FABP4\n"
     ]
    },
    {
     "name": "stderr",
     "output_type": "stream",
     "text": [
      "INFO: [2024-07-10 08:32:53] indra_cogex.client.neo4j_client - Using configured URL for INDRA neo4j connection\n",
      "INFO: [2024-07-10 08:32:53] indra_cogex.client.neo4j_client - Using configured credentials for INDRA neo4j connection\n"
     ]
    },
    {
     "name": "stdout",
     "output_type": "stream",
     "text": [
      "[(:BioEntity { id:'GO:GO:0005504', name:'fatty acid binding', type:'biological_process' }), (:BioEntity { id:'GO:GO:0005634', name:'nucleus', type:'cellular_location' }), (:BioEntity { id:'GO:GO:0005829', name:'cytosol', type:'cellular_location' }), (:BioEntity { id:'GO:GO:0015908', name:'fatty acid transport', type:'biological_process' }), (:BioEntity { id:'GO:GO:0070062', name:'extracellular exosome', type:'cellular_location' })]\n",
      "GO terms for GPCPD1\n"
     ]
    },
    {
     "name": "stderr",
     "output_type": "stream",
     "text": [
      "INFO: [2024-07-10 08:32:54] indra_cogex.client.neo4j_client - Using configured URL for INDRA neo4j connection\n",
      "INFO: [2024-07-10 08:32:54] indra_cogex.client.neo4j_client - Using configured credentials for INDRA neo4j connection\n"
     ]
    },
    {
     "name": "stdout",
     "output_type": "stream",
     "text": [
      "[(:BioEntity { id:'GO:GO:0046475', name:'glycerophospholipid catabolic process', type:'biological_process' }), (:BioEntity { id:'GO:GO:0047389', name:'glycerophosphocholine phosphodiesterase activity', type:'biological_process' })]\n",
      "GO terms for VSNL1\n"
     ]
    },
    {
     "name": "stderr",
     "output_type": "stream",
     "text": [
      "INFO: [2024-07-10 08:32:55] indra_cogex.client.neo4j_client - Using configured URL for INDRA neo4j connection\n",
      "INFO: [2024-07-10 08:32:55] indra_cogex.client.neo4j_client - Using configured credentials for INDRA neo4j connection\n"
     ]
    },
    {
     "name": "stdout",
     "output_type": "stream",
     "text": [
      "[(:BioEntity { id:'GO:GO:0005509', name:'calcium ion binding', type:'biological_process' }), (:BioEntity { id:'GO:GO:0005515', name:'protein binding', type:'biological_process' })]\n",
      "GO terms for CRYBB1\n"
     ]
    },
    {
     "name": "stderr",
     "output_type": "stream",
     "text": [
      "INFO: [2024-07-10 08:32:55] indra_cogex.client.neo4j_client - Using configured URL for INDRA neo4j connection\n",
      "INFO: [2024-07-10 08:32:55] indra_cogex.client.neo4j_client - Using configured credentials for INDRA neo4j connection\n"
     ]
    },
    {
     "name": "stdout",
     "output_type": "stream",
     "text": [
      "[(:BioEntity { id:'GO:GO:0002088', name:'lens development in camera-type eye', type:'biological_process' }), (:BioEntity { id:'GO:GO:0005212', name:'structural constituent of eye lens', type:'biological_process' }), (:BioEntity { id:'GO:GO:0005515', name:'protein binding', type:'biological_process' }), (:BioEntity { id:'GO:GO:0007601', name:'visual perception', type:'biological_process' })]\n",
      "GO terms for PDZD8\n"
     ]
    },
    {
     "name": "stderr",
     "output_type": "stream",
     "text": [
      "INFO: [2024-07-10 08:32:56] indra_cogex.client.neo4j_client - Using configured URL for INDRA neo4j connection\n",
      "INFO: [2024-07-10 08:32:56] indra_cogex.client.neo4j_client - Using configured credentials for INDRA neo4j connection\n"
     ]
    },
    {
     "name": "stdout",
     "output_type": "stream",
     "text": [
      "[(:BioEntity { id:'GO:GO:0005515', name:'protein binding', type:'biological_process' }), (:BioEntity { id:'GO:GO:0005789', name:'endoplasmic reticulum membrane', type:'cellular_location' }), (:BioEntity { id:'GO:GO:0007010', name:'cytoskeleton organization', type:'biological_process' }), (:BioEntity { id:'GO:GO:0016020', name:'membrane', type:'cellular_location' }), (:BioEntity { id:'GO:GO:0022604', name:'regulation of cell morphogenesis', type:'biological_process' }), (:BioEntity { id:'GO:GO:0044233', name:'mitochondria-associated endoplasmic reticulum membrane', type:'cellular_location' }), (:BioEntity { id:'GO:GO:0051560', name:'mitochondrial calcium ion homeostasis', type:'biological_process' }), (:BioEntity { id:'GO:GO:1990456', name:'mitochondrion-endoplasmic reticulum membrane tethering', type:'biological_process' })]\n",
      "GO terms for FNDC3A\n",
      "[(:BioEntity { id:'GO:GO:0003723', name:'RNA binding', type:'biological_process' }), (:BioEntity { id:'GO:GO:0005737', name:'cytoplasm', type:'cellular_location' }), (:BioEntity { id:'GO:GO:0005794', name:'Golgi apparatus', type:'cellular_location' }), (:BioEntity { id:'GO:GO:0007286', name:'spermatid development', type:'biological_process' }), (:BioEntity { id:'GO:GO:0016020', name:'membrane', type:'cellular_location' }), (:BioEntity { id:'GO:GO:0043231', name:'intracellular membrane-bounded organelle', type:'cellular_location' })]\n"
     ]
    }
   ],
   "source": [
    "# this method is not necessary because the INDRA gene analysis provides GO terms among genes\n",
    "def go_terms_for_unique():\n",
    "    #iterates through the ids and names of the unique proteins \n",
    "    for ids, names in zip(id_df[\"gene_id\"].values, id_df[\"name\"].values):\n",
    "        # gets the numerical part of the string only\n",
    "        id = ids[5:]\n",
    "        print(\"GO terms for\", names) \n",
    "        print(get_go_terms_for_gene((\"HGNC\", id)))\n",
    "go_terms_for_unique()\n"
   ]
  },
  {
   "cell_type": "markdown",
   "id": "9f2447ee-d902-40b3-ab62-0f80df310623",
   "metadata": {},
   "source": [
    "## Exploring Gene Enrichment\n",
    "Has these aspects of upstream entities, go terms, and reactome/wikipathways for analysis across the list of proteins, but not in relationship to CTNNB1. Already analyzed reactome/wikipathways, but not upstream and GO terms. For the upstream dataframe, some of the  chemicals have the same “footprint” as b-catenin, and also contains proteins that are intermediates of the wnt signaling pathway and regulate proteins of interest "
   ]
  },
  {
   "cell_type": "code",
   "execution_count": 103,
   "id": "a49732d8-ace6-423f-a81d-bd38eb2613c6",
   "metadata": {},
   "outputs": [
    {
     "data": {
      "text/html": [
       "<div>\n",
       "<style scoped>\n",
       "    .dataframe tbody tr th:only-of-type {\n",
       "        vertical-align: middle;\n",
       "    }\n",
       "\n",
       "    .dataframe tbody tr th {\n",
       "        vertical-align: top;\n",
       "    }\n",
       "\n",
       "    .dataframe thead th {\n",
       "        text-align: right;\n",
       "    }\n",
       "</style>\n",
       "<table border=\"1\" class=\"dataframe\">\n",
       "  <thead>\n",
       "    <tr style=\"text-align: right;\">\n",
       "      <th></th>\n",
       "      <th>index</th>\n",
       "      <th>CURIE</th>\n",
       "      <th>Name</th>\n",
       "      <th>p-value</th>\n",
       "      <th>q-value</th>\n",
       "    </tr>\n",
       "  </thead>\n",
       "  <tbody>\n",
       "    <tr>\n",
       "      <th>0</th>\n",
       "      <td>113</td>\n",
       "      <td>hgnc:21231</td>\n",
       "      <td>DACT2</td>\n",
       "      <td>6.050000e-05</td>\n",
       "      <td>0.026000</td>\n",
       "    </tr>\n",
       "    <tr>\n",
       "      <th>1</th>\n",
       "      <td>69</td>\n",
       "      <td>hgnc:11838</td>\n",
       "      <td>TLE2</td>\n",
       "      <td>1.590000e-05</td>\n",
       "      <td>0.010800</td>\n",
       "    </tr>\n",
       "    <tr>\n",
       "      <th>2</th>\n",
       "      <td>24</td>\n",
       "      <td>chebi:4031</td>\n",
       "      <td>cyclosporin A</td>\n",
       "      <td>2.030000e-06</td>\n",
       "      <td>0.003950</td>\n",
       "    </tr>\n",
       "    <tr>\n",
       "      <th>3</th>\n",
       "      <td>88</td>\n",
       "      <td>hgnc:3236</td>\n",
       "      <td>EGFR</td>\n",
       "      <td>2.920000e-05</td>\n",
       "      <td>0.016100</td>\n",
       "    </tr>\n",
       "    <tr>\n",
       "      <th>4</th>\n",
       "      <td>5</td>\n",
       "      <td>hgnc:6551</td>\n",
       "      <td>LEF1</td>\n",
       "      <td>1.540000e-08</td>\n",
       "      <td>0.000126</td>\n",
       "    </tr>\n",
       "    <tr>\n",
       "      <th>...</th>\n",
       "      <td>...</td>\n",
       "      <td>...</td>\n",
       "      <td>...</td>\n",
       "      <td>...</td>\n",
       "      <td>...</td>\n",
       "    </tr>\n",
       "    <tr>\n",
       "      <th>101</th>\n",
       "      <td>58</td>\n",
       "      <td>hgnc:16265</td>\n",
       "      <td>WNT5B</td>\n",
       "      <td>9.650000e-06</td>\n",
       "      <td>0.007900</td>\n",
       "    </tr>\n",
       "    <tr>\n",
       "      <th>102</th>\n",
       "      <td>148</td>\n",
       "      <td>hgnc:9449</td>\n",
       "      <td>PRNP</td>\n",
       "      <td>1.130000e-04</td>\n",
       "      <td>0.037200</td>\n",
       "    </tr>\n",
       "    <tr>\n",
       "      <th>103</th>\n",
       "      <td>153</td>\n",
       "      <td>hgnc:8528</td>\n",
       "      <td>OXT</td>\n",
       "      <td>1.240000e-04</td>\n",
       "      <td>0.039200</td>\n",
       "    </tr>\n",
       "    <tr>\n",
       "      <th>104</th>\n",
       "      <td>122</td>\n",
       "      <td>hgnc:2500</td>\n",
       "      <td>CCN2</td>\n",
       "      <td>7.770000e-05</td>\n",
       "      <td>0.030200</td>\n",
       "    </tr>\n",
       "    <tr>\n",
       "      <th>105</th>\n",
       "      <td>150</td>\n",
       "      <td>go:0016055</td>\n",
       "      <td>Wnt signaling pathway</td>\n",
       "      <td>1.170000e-04</td>\n",
       "      <td>0.037600</td>\n",
       "    </tr>\n",
       "  </tbody>\n",
       "</table>\n",
       "<p>106 rows × 5 columns</p>\n",
       "</div>"
      ],
      "text/plain": [
       "     index       CURIE                   Name       p-value   q-value\n",
       "0      113  hgnc:21231                  DACT2  6.050000e-05  0.026000\n",
       "1       69  hgnc:11838                   TLE2  1.590000e-05  0.010800\n",
       "2       24  chebi:4031          cyclosporin A  2.030000e-06  0.003950\n",
       "3       88   hgnc:3236                   EGFR  2.920000e-05  0.016100\n",
       "4        5   hgnc:6551                   LEF1  1.540000e-08  0.000126\n",
       "..     ...         ...                    ...           ...       ...\n",
       "101     58  hgnc:16265                  WNT5B  9.650000e-06  0.007900\n",
       "102    148   hgnc:9449                   PRNP  1.130000e-04  0.037200\n",
       "103    153   hgnc:8528                    OXT  1.240000e-04  0.039200\n",
       "104    122   hgnc:2500                   CCN2  7.770000e-05  0.030200\n",
       "105    150  go:0016055  Wnt signaling pathway  1.170000e-04  0.037600\n",
       "\n",
       "[106 rows x 5 columns]"
      ]
     },
     "execution_count": 103,
     "metadata": {},
     "output_type": "execute_result"
    }
   ],
   "source": [
    "# this method uses the indra_upstream csv to get a dataframe that is the intersection of the upstream molecules \n",
    "# and the bioentities that CTNNB1 has direct INDRA relationships with\n",
    "\n",
    "def shared_entities():\n",
    "    \"\"\"\n",
    "    Parameters\n",
    "    ----------\n",
    "    none\n",
    "\n",
    "    Returns\n",
    "    -------\n",
    "    shared_proteins: list of shared bioentities between the indra_upstream results and bioenties that\n",
    "    have direct INDRA relationships with CTNNB1\n",
    "    shared_indra: dataframe that is the filtered the indra_upstream_df using the shared_protiens list \n",
    "                  (you can pick whether you want to filter the indra_upstream_df or protein_df which \n",
    "                   contains all bioentities that CTNNB1 has a direct INDRA relationship with)\n",
    "        \n",
    "    \"\"\"\n",
    "    # downloaded the gene list analysis as a csv\n",
    "    indra_upstream_df = pd.read_csv(\"/Users/ariaagarwal/Desktop/discrete.csv\")\n",
    "    \n",
    "    # list that are shared entities between indra_upstream for gene set and proteins that have a direct \n",
    "    # INDRA relationship with CTNNB1\n",
    "    shared_proteins = list((set(indra_upstream_df[\"Name\"].values)).intersection(set(protein_df[\"name\"].values)))\n",
    "    df_list = []\n",
    "    for i, j in enumerate(shared_proteins):\n",
    "        # can pick if you want to filter from protein_df (which has proteins that have INDRA relationships to CTNNB1). \n",
    "        # or indra_upstream_df \n",
    "            df_list.append(indra_upstream_df[indra_upstream_df[\"Name\"] == shared_proteins[i]])\n",
    "            shared_indra = pd.concat(df_list)\n",
    "    shared_indra = shared_indra.reset_index()\n",
    "\n",
    "    # code if want to filter for specific type of bioentity ex: protein_family_complex, small_molecule ect.\n",
    "    \n",
    "     #for num, type in enumerate(shared_indra[\"type\"].values):\n",
    "        #if type[0] == \"protein_family_complex\":\n",
    "            #print(shared_indra.iloc[num])\n",
    "    \n",
    "    return shared_proteins, shared_indra\n",
    "    \n",
    "shared_proteins, shared_indra = shared_entities()\n",
    "shared_indra"
   ]
  },
  {
   "cell_type": "code",
   "execution_count": 104,
   "id": "bfd403d5-0e51-479d-b299-4443e086331e",
   "metadata": {},
   "outputs": [
    {
     "data": {
      "text/html": [
       "<div>\n",
       "<style scoped>\n",
       "    .dataframe tbody tr th:only-of-type {\n",
       "        vertical-align: middle;\n",
       "    }\n",
       "\n",
       "    .dataframe tbody tr th {\n",
       "        vertical-align: top;\n",
       "    }\n",
       "\n",
       "    .dataframe thead th {\n",
       "        text-align: right;\n",
       "    }\n",
       "</style>\n",
       "<table border=\"1\" class=\"dataframe\">\n",
       "  <thead>\n",
       "    <tr style=\"text-align: right;\">\n",
       "      <th></th>\n",
       "      <th>CURIE</th>\n",
       "      <th>Name</th>\n",
       "      <th>p-value</th>\n",
       "      <th>q-value</th>\n",
       "    </tr>\n",
       "  </thead>\n",
       "  <tbody>\n",
       "    <tr>\n",
       "      <th>1</th>\n",
       "      <td>go:0005515</td>\n",
       "      <td>protein binding</td>\n",
       "      <td>3.180000e-07</td>\n",
       "      <td>0.00219</td>\n",
       "    </tr>\n",
       "    <tr>\n",
       "      <th>11</th>\n",
       "      <td>go:1990907</td>\n",
       "      <td>beta-catenin-TCF complex</td>\n",
       "      <td>2.250000e-05</td>\n",
       "      <td>0.02590</td>\n",
       "    </tr>\n",
       "  </tbody>\n",
       "</table>\n",
       "</div>"
      ],
      "text/plain": [
       "         CURIE                      Name       p-value  q-value\n",
       "1   go:0005515           protein binding  3.180000e-07  0.00219\n",
       "11  go:1990907  beta-catenin-TCF complex  2.250000e-05  0.02590"
      ]
     },
     "execution_count": 104,
     "metadata": {},
     "output_type": "execute_result"
    }
   ],
   "source": [
    "# this method finds the shared go terms between what the analysis returns and CTNNB1s GO terms\n",
    "# the csv did have other rows that mention the wnt signaling pathway which could be of interest\n",
    "\n",
    "def finding_protein_complexes():\n",
    "    \"\"\"\n",
    "    Parameters\n",
    "    ----------\n",
    "    none\n",
    "\n",
    "    Returns\n",
    "    -------\n",
    "    shared_df = dataframe that contains shared bioentities that have the same go terms \n",
    "    between the GO terms provided from the gene analysis and GO terms associated with CTNNB1\n",
    "        \n",
    "    \"\"\"\n",
    "    go_terms_df = pd.read_csv(\"/Users/ariaagarwal/Desktop/goterms.csv\")\n",
    "    df_list = []\n",
    "    shared_go = list((set(go_terms_df[\"CURIE\"]).intersection(set(ctnnb1_go))))\n",
    "    for i, j in enumerate(shared_go):\n",
    "        df_list.append(go_terms_df[go_terms_df[\"CURIE\"] == shared_go[i]])\n",
    "    shared_df = pd.concat(df_list)\n",
    "    return shared_df\n",
    "shared_df = finding_protein_complexes()\n",
    "shared_df\n"
   ]
  },
  {
   "cell_type": "code",
   "execution_count": 105,
   "id": "da055d10-0b53-40f6-ab99-1c2a16af1327",
   "metadata": {},
   "outputs": [
    {
     "data": {
      "text/html": [
       "<div>\n",
       "<style scoped>\n",
       "    .dataframe tbody tr th:only-of-type {\n",
       "        vertical-align: middle;\n",
       "    }\n",
       "\n",
       "    .dataframe tbody tr th {\n",
       "        vertical-align: top;\n",
       "    }\n",
       "\n",
       "    .dataframe thead th {\n",
       "        text-align: right;\n",
       "    }\n",
       "</style>\n",
       "<table border=\"1\" class=\"dataframe\">\n",
       "  <thead>\n",
       "    <tr style=\"text-align: right;\">\n",
       "      <th></th>\n",
       "      <th>CURIE</th>\n",
       "      <th>Name</th>\n",
       "      <th>p-value</th>\n",
       "      <th>q-value</th>\n",
       "    </tr>\n",
       "  </thead>\n",
       "  <tbody>\n",
       "    <tr>\n",
       "      <th>0</th>\n",
       "      <td>reactome:R-HSA-4411364</td>\n",
       "      <td>Binding of TCF/LEF:CTNNB1 to target gene promo...</td>\n",
       "      <td>8.100000e-06</td>\n",
       "      <td>0.009120</td>\n",
       "    </tr>\n",
       "    <tr>\n",
       "      <th>1</th>\n",
       "      <td>reactome:R-HSA-8951430</td>\n",
       "      <td>RUNX3 regulates WNT signaling</td>\n",
       "      <td>8.100000e-06</td>\n",
       "      <td>0.009120</td>\n",
       "    </tr>\n",
       "    <tr>\n",
       "      <th>2</th>\n",
       "      <td>reactome:R-HSA-1483115</td>\n",
       "      <td>Hydrolysis of LPC</td>\n",
       "      <td>1.040000e-05</td>\n",
       "      <td>0.009120</td>\n",
       "    </tr>\n",
       "    <tr>\n",
       "      <th>3</th>\n",
       "      <td>reactome:R-HSA-9762292</td>\n",
       "      <td>Regulation of CDH11 function</td>\n",
       "      <td>1.590000e-05</td>\n",
       "      <td>0.010400</td>\n",
       "    </tr>\n",
       "    <tr>\n",
       "      <th>4</th>\n",
       "      <td>reactome:R-HSA-9796292</td>\n",
       "      <td>Formation of axial mesoderm</td>\n",
       "      <td>2.630000e-05</td>\n",
       "      <td>0.013800</td>\n",
       "    </tr>\n",
       "    <tr>\n",
       "      <th>5</th>\n",
       "      <td>reactome:R-HSA-9754189</td>\n",
       "      <td>Germ layer formation at gastrulation</td>\n",
       "      <td>3.920000e-05</td>\n",
       "      <td>0.017200</td>\n",
       "    </tr>\n",
       "    <tr>\n",
       "      <th>6</th>\n",
       "      <td>reactome:R-HSA-9733709</td>\n",
       "      <td>Cardiogenesis</td>\n",
       "      <td>1.010000e-04</td>\n",
       "      <td>0.031900</td>\n",
       "    </tr>\n",
       "    <tr>\n",
       "      <th>7</th>\n",
       "      <td>reactome:R-HSA-9759475</td>\n",
       "      <td>Regulation of CDH11 Expression and Function</td>\n",
       "      <td>1.090000e-04</td>\n",
       "      <td>0.031900</td>\n",
       "    </tr>\n",
       "    <tr>\n",
       "      <th>8</th>\n",
       "      <td>reactome:R-HSA-525793</td>\n",
       "      <td>Myogenesis</td>\n",
       "      <td>1.170000e-04</td>\n",
       "      <td>0.031900</td>\n",
       "    </tr>\n",
       "    <tr>\n",
       "      <th>9</th>\n",
       "      <td>reactome:R-HSA-9764260</td>\n",
       "      <td>Regulation of Expression and Function of Type ...</td>\n",
       "      <td>1.340000e-04</td>\n",
       "      <td>0.031900</td>\n",
       "    </tr>\n",
       "    <tr>\n",
       "      <th>10</th>\n",
       "      <td>reactome:R-HSA-9759476</td>\n",
       "      <td>Regulation of Homotypic Cell-Cell Adhesion</td>\n",
       "      <td>1.340000e-04</td>\n",
       "      <td>0.031900</td>\n",
       "    </tr>\n",
       "    <tr>\n",
       "      <th>11</th>\n",
       "      <td>reactome:R-HSA-4791275</td>\n",
       "      <td>Signaling by WNT in cancer</td>\n",
       "      <td>1.610000e-04</td>\n",
       "      <td>0.035200</td>\n",
       "    </tr>\n",
       "    <tr>\n",
       "      <th>12</th>\n",
       "      <td>reactome:R-HSA-201681</td>\n",
       "      <td>TCF dependent signaling in response to WNT</td>\n",
       "      <td>1.820000e-04</td>\n",
       "      <td>0.036800</td>\n",
       "    </tr>\n",
       "    <tr>\n",
       "      <th>13</th>\n",
       "      <td>reactome:R-HSA-8853884</td>\n",
       "      <td>Transcriptional Regulation by VENTX</td>\n",
       "      <td>2.120000e-04</td>\n",
       "      <td>0.039800</td>\n",
       "    </tr>\n",
       "    <tr>\n",
       "      <th>14</th>\n",
       "      <td>reactome:R-HSA-3769402</td>\n",
       "      <td>Deactivation of the beta-catenin transactivati...</td>\n",
       "      <td>2.460000e-04</td>\n",
       "      <td>0.043100</td>\n",
       "    </tr>\n",
       "    <tr>\n",
       "      <th>0</th>\n",
       "      <td>wikipathways:WP5087</td>\n",
       "      <td>Pleural mesothelioma</td>\n",
       "      <td>3.030000e-09</td>\n",
       "      <td>0.000003</td>\n",
       "    </tr>\n",
       "    <tr>\n",
       "      <th>1</th>\n",
       "      <td>wikipathways:WP4336</td>\n",
       "      <td>ncRNAs involved in Wnt signaling in hepatocell...</td>\n",
       "      <td>1.600000e-07</td>\n",
       "      <td>0.000067</td>\n",
       "    </tr>\n",
       "    <tr>\n",
       "      <th>2</th>\n",
       "      <td>wikipathways:WP4258</td>\n",
       "      <td>lncRNA in canonical Wnt signaling and colorect...</td>\n",
       "      <td>2.370000e-07</td>\n",
       "      <td>0.000067</td>\n",
       "    </tr>\n",
       "    <tr>\n",
       "      <th>3</th>\n",
       "      <td>wikipathways:WP428</td>\n",
       "      <td>Wnt signaling</td>\n",
       "      <td>4.390000e-07</td>\n",
       "      <td>0.000093</td>\n",
       "    </tr>\n",
       "    <tr>\n",
       "      <th>4</th>\n",
       "      <td>wikipathways:WP4816</td>\n",
       "      <td>TGF beta receptor signaling in skeletal dyspla...</td>\n",
       "      <td>4.670000e-06</td>\n",
       "      <td>0.000790</td>\n",
       "    </tr>\n",
       "    <tr>\n",
       "      <th>5</th>\n",
       "      <td>wikipathways:WP4155</td>\n",
       "      <td>Endometrial cancer</td>\n",
       "      <td>5.700000e-06</td>\n",
       "      <td>0.000803</td>\n",
       "    </tr>\n",
       "    <tr>\n",
       "      <th>6</th>\n",
       "      <td>wikipathways:WP2118</td>\n",
       "      <td>Arrhythmogenic right ventricular cardiomyopathy</td>\n",
       "      <td>9.260000e-06</td>\n",
       "      <td>0.001120</td>\n",
       "    </tr>\n",
       "    <tr>\n",
       "      <th>7</th>\n",
       "      <td>wikipathways:WP2840</td>\n",
       "      <td>Hair follicle development cytodifferentiation ...</td>\n",
       "      <td>1.510000e-05</td>\n",
       "      <td>0.001590</td>\n",
       "    </tr>\n",
       "    <tr>\n",
       "      <th>8</th>\n",
       "      <td>wikipathways:WP3664</td>\n",
       "      <td>Regulation of Wnt B catenin signaling by small...</td>\n",
       "      <td>3.920000e-05</td>\n",
       "      <td>0.003690</td>\n",
       "    </tr>\n",
       "    <tr>\n",
       "      <th>9</th>\n",
       "      <td>wikipathways:WP5061</td>\n",
       "      <td>Fatty acid transporters</td>\n",
       "      <td>4.410000e-05</td>\n",
       "      <td>0.003730</td>\n",
       "    </tr>\n",
       "    <tr>\n",
       "      <th>10</th>\n",
       "      <td>wikipathways:WP3658</td>\n",
       "      <td>Wnt beta catenin signaling pathway in leukemia</td>\n",
       "      <td>9.350000e-05</td>\n",
       "      <td>0.007190</td>\n",
       "    </tr>\n",
       "    <tr>\n",
       "      <th>11</th>\n",
       "      <td>wikipathways:WP2870</td>\n",
       "      <td>Extracellular vesicle mediated signaling in re...</td>\n",
       "      <td>1.250000e-04</td>\n",
       "      <td>0.008810</td>\n",
       "    </tr>\n",
       "    <tr>\n",
       "      <th>12</th>\n",
       "      <td>wikipathways:WP2839</td>\n",
       "      <td>Hair follicle development organogenesis part 2...</td>\n",
       "      <td>1.420000e-04</td>\n",
       "      <td>0.009270</td>\n",
       "    </tr>\n",
       "    <tr>\n",
       "      <th>13</th>\n",
       "      <td>wikipathways:WP5323</td>\n",
       "      <td>Fatty Acids and Lipoproteins Transport in Hepa...</td>\n",
       "      <td>1.710000e-04</td>\n",
       "      <td>0.010300</td>\n",
       "    </tr>\n",
       "    <tr>\n",
       "      <th>14</th>\n",
       "      <td>wikipathways:WP4844</td>\n",
       "      <td>Influence of laminopathies on Wnt signaling</td>\n",
       "      <td>1.910000e-04</td>\n",
       "      <td>0.010800</td>\n",
       "    </tr>\n",
       "    <tr>\n",
       "      <th>15</th>\n",
       "      <td>wikipathways:WP363</td>\n",
       "      <td>Wnt signaling pathway</td>\n",
       "      <td>3.090000e-04</td>\n",
       "      <td>0.016300</td>\n",
       "    </tr>\n",
       "    <tr>\n",
       "      <th>16</th>\n",
       "      <td>wikipathways:WP5124</td>\n",
       "      <td>Alzheimer 39 s disease</td>\n",
       "      <td>3.910000e-04</td>\n",
       "      <td>0.018800</td>\n",
       "    </tr>\n",
       "    <tr>\n",
       "      <th>17</th>\n",
       "      <td>wikipathways:WP2059</td>\n",
       "      <td>Alzheimer 39 s disease and miRNA effects</td>\n",
       "      <td>4.130000e-04</td>\n",
       "      <td>0.018800</td>\n",
       "    </tr>\n",
       "    <tr>\n",
       "      <th>18</th>\n",
       "      <td>wikipathways:WP560</td>\n",
       "      <td>TGF beta receptor signaling</td>\n",
       "      <td>4.230000e-04</td>\n",
       "      <td>0.018800</td>\n",
       "    </tr>\n",
       "    <tr>\n",
       "      <th>19</th>\n",
       "      <td>wikipathways:WP4879</td>\n",
       "      <td>Overlap between signal transduction pathways c...</td>\n",
       "      <td>4.540000e-04</td>\n",
       "      <td>0.019200</td>\n",
       "    </tr>\n",
       "    <tr>\n",
       "      <th>20</th>\n",
       "      <td>wikipathways:WP4400</td>\n",
       "      <td>FABP4 in ovarian cancer</td>\n",
       "      <td>5.500000e-04</td>\n",
       "      <td>0.022100</td>\n",
       "    </tr>\n",
       "    <tr>\n",
       "      <th>21</th>\n",
       "      <td>wikipathways:WP3942</td>\n",
       "      <td>PPAR signaling pathway</td>\n",
       "      <td>6.270000e-04</td>\n",
       "      <td>0.024100</td>\n",
       "    </tr>\n",
       "    <tr>\n",
       "      <th>22</th>\n",
       "      <td>wikipathways:WP4216</td>\n",
       "      <td>Chromosomal and microsatellite instability in ...</td>\n",
       "      <td>7.440000e-04</td>\n",
       "      <td>0.027400</td>\n",
       "    </tr>\n",
       "    <tr>\n",
       "      <th>23</th>\n",
       "      <td>wikipathways:WP4540</td>\n",
       "      <td>Hippo signaling regulation pathways</td>\n",
       "      <td>1.330000e-03</td>\n",
       "      <td>0.047000</td>\n",
       "    </tr>\n",
       "    <tr>\n",
       "      <th>24</th>\n",
       "      <td>wikipathways:WP399</td>\n",
       "      <td>Wnt signaling pathway and pluripotency</td>\n",
       "      <td>1.420000e-03</td>\n",
       "      <td>0.047900</td>\n",
       "    </tr>\n",
       "  </tbody>\n",
       "</table>\n",
       "</div>"
      ],
      "text/plain": [
       "                     CURIE                                               Name  \\\n",
       "0   reactome:R-HSA-4411364  Binding of TCF/LEF:CTNNB1 to target gene promo...   \n",
       "1   reactome:R-HSA-8951430                      RUNX3 regulates WNT signaling   \n",
       "2   reactome:R-HSA-1483115                                  Hydrolysis of LPC   \n",
       "3   reactome:R-HSA-9762292                       Regulation of CDH11 function   \n",
       "4   reactome:R-HSA-9796292                        Formation of axial mesoderm   \n",
       "5   reactome:R-HSA-9754189               Germ layer formation at gastrulation   \n",
       "6   reactome:R-HSA-9733709                                      Cardiogenesis   \n",
       "7   reactome:R-HSA-9759475        Regulation of CDH11 Expression and Function   \n",
       "8    reactome:R-HSA-525793                                         Myogenesis   \n",
       "9   reactome:R-HSA-9764260  Regulation of Expression and Function of Type ...   \n",
       "10  reactome:R-HSA-9759476         Regulation of Homotypic Cell-Cell Adhesion   \n",
       "11  reactome:R-HSA-4791275                         Signaling by WNT in cancer   \n",
       "12   reactome:R-HSA-201681         TCF dependent signaling in response to WNT   \n",
       "13  reactome:R-HSA-8853884                Transcriptional Regulation by VENTX   \n",
       "14  reactome:R-HSA-3769402  Deactivation of the beta-catenin transactivati...   \n",
       "0      wikipathways:WP5087                               Pleural mesothelioma   \n",
       "1      wikipathways:WP4336  ncRNAs involved in Wnt signaling in hepatocell...   \n",
       "2      wikipathways:WP4258  lncRNA in canonical Wnt signaling and colorect...   \n",
       "3       wikipathways:WP428                                      Wnt signaling   \n",
       "4      wikipathways:WP4816  TGF beta receptor signaling in skeletal dyspla...   \n",
       "5      wikipathways:WP4155                                 Endometrial cancer   \n",
       "6      wikipathways:WP2118    Arrhythmogenic right ventricular cardiomyopathy   \n",
       "7      wikipathways:WP2840  Hair follicle development cytodifferentiation ...   \n",
       "8      wikipathways:WP3664  Regulation of Wnt B catenin signaling by small...   \n",
       "9      wikipathways:WP5061                            Fatty acid transporters   \n",
       "10     wikipathways:WP3658     Wnt beta catenin signaling pathway in leukemia   \n",
       "11     wikipathways:WP2870  Extracellular vesicle mediated signaling in re...   \n",
       "12     wikipathways:WP2839  Hair follicle development organogenesis part 2...   \n",
       "13     wikipathways:WP5323  Fatty Acids and Lipoproteins Transport in Hepa...   \n",
       "14     wikipathways:WP4844        Influence of laminopathies on Wnt signaling   \n",
       "15      wikipathways:WP363                              Wnt signaling pathway   \n",
       "16     wikipathways:WP5124                             Alzheimer 39 s disease   \n",
       "17     wikipathways:WP2059           Alzheimer 39 s disease and miRNA effects   \n",
       "18      wikipathways:WP560                        TGF beta receptor signaling   \n",
       "19     wikipathways:WP4879  Overlap between signal transduction pathways c...   \n",
       "20     wikipathways:WP4400                            FABP4 in ovarian cancer   \n",
       "21     wikipathways:WP3942                             PPAR signaling pathway   \n",
       "22     wikipathways:WP4216  Chromosomal and microsatellite instability in ...   \n",
       "23     wikipathways:WP4540                Hippo signaling regulation pathways   \n",
       "24      wikipathways:WP399             Wnt signaling pathway and pluripotency   \n",
       "\n",
       "         p-value   q-value  \n",
       "0   8.100000e-06  0.009120  \n",
       "1   8.100000e-06  0.009120  \n",
       "2   1.040000e-05  0.009120  \n",
       "3   1.590000e-05  0.010400  \n",
       "4   2.630000e-05  0.013800  \n",
       "5   3.920000e-05  0.017200  \n",
       "6   1.010000e-04  0.031900  \n",
       "7   1.090000e-04  0.031900  \n",
       "8   1.170000e-04  0.031900  \n",
       "9   1.340000e-04  0.031900  \n",
       "10  1.340000e-04  0.031900  \n",
       "11  1.610000e-04  0.035200  \n",
       "12  1.820000e-04  0.036800  \n",
       "13  2.120000e-04  0.039800  \n",
       "14  2.460000e-04  0.043100  \n",
       "0   3.030000e-09  0.000003  \n",
       "1   1.600000e-07  0.000067  \n",
       "2   2.370000e-07  0.000067  \n",
       "3   4.390000e-07  0.000093  \n",
       "4   4.670000e-06  0.000790  \n",
       "5   5.700000e-06  0.000803  \n",
       "6   9.260000e-06  0.001120  \n",
       "7   1.510000e-05  0.001590  \n",
       "8   3.920000e-05  0.003690  \n",
       "9   4.410000e-05  0.003730  \n",
       "10  9.350000e-05  0.007190  \n",
       "11  1.250000e-04  0.008810  \n",
       "12  1.420000e-04  0.009270  \n",
       "13  1.710000e-04  0.010300  \n",
       "14  1.910000e-04  0.010800  \n",
       "15  3.090000e-04  0.016300  \n",
       "16  3.910000e-04  0.018800  \n",
       "17  4.130000e-04  0.018800  \n",
       "18  4.230000e-04  0.018800  \n",
       "19  4.540000e-04  0.019200  \n",
       "20  5.500000e-04  0.022100  \n",
       "21  6.270000e-04  0.024100  \n",
       "22  7.440000e-04  0.027400  \n",
       "23  1.330000e-03  0.047000  \n",
       "24  1.420000e-03  0.047900  "
      ]
     },
     "execution_count": 105,
     "metadata": {},
     "output_type": "execute_result"
    }
   ],
   "source": [
    "# combined dataframe of REACTOME and Wikipathways provided by gene analysis for gene list\n",
    "# did not perform analysis because shared pathways was already explored \n",
    "\n",
    "reactome_df = pd.read_csv(\"/Users/ariaagarwal/Desktop/reactome.csv\")\n",
    "wikipathways_df = pd.read_csv(\"/Users/ariaagarwal/Desktop/wikipathways.csv\")\n",
    "pathways_df = pd.concat([reactome_df, wikipathways_df])\n",
    "pathways_df"
   ]
  },
  {
   "cell_type": "code",
   "execution_count": null,
   "id": "1335bb35-781b-478e-a8d6-b831963667c6",
   "metadata": {},
   "outputs": [],
   "source": []
  }
 ],
 "metadata": {
  "kernelspec": {
   "display_name": "Python 3 (ipykernel)",
   "language": "python",
   "name": "python3"
  },
  "language_info": {
   "codemirror_mode": {
    "name": "ipython",
    "version": 3
   },
   "file_extension": ".py",
   "mimetype": "text/x-python",
   "name": "python",
   "nbconvert_exporter": "python",
   "pygments_lexer": "ipython3",
   "version": "3.10.13"
  }
 },
 "nbformat": 4,
 "nbformat_minor": 5
}
